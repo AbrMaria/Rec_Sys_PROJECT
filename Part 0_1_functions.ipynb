{
 "cells": [
  {
   "cell_type": "markdown",
   "metadata": {},
   "source": [
    "'''def recommindation_for_newbie():получить рекомендацию для новичка на сайте Coursera - задача 1'''\n",
    "\n",
    "'''def task_2(user_name): решаем задачу предсказания оценки на базе ранее оцененных курсов - задача 2'''\n",
    "    - item to item\n",
    "    - item to user\n",
    "\n",
    "'''def freeform_search(): нужен поиск в свободной форме - - задача 3'''\n",
    "    - по ключевым словам/ \n",
    "    - авторам/ \n",
    "    - названиям курсов/\n",
    "    - набору слов"
   ]
  },
  {
   "cell_type": "code",
   "execution_count": 7,
   "metadata": {},
   "outputs": [],
   "source": [
    "import pandas as pd\n",
    "import numpy as np"
   ]
  },
  {
   "cell_type": "code",
   "execution_count": 8,
   "metadata": {},
   "outputs": [],
   "source": [
    "# 00\n",
    "joined_users_reviews = pd.read_csv('joined_users_reviews.csv')\n",
    "reviews_eng_courses = pd.read_csv('reviews_eng_courses_1.csv')\n"
   ]
  },
  {
   "cell_type": "code",
   "execution_count": 10,
   "metadata": {},
   "outputs": [],
   "source": [
    "# start\n",
    "def beginning():\n",
    "    '''Приветствие'''\n",
    "    print('Hi, username!')\n",
    "    print('Я бот_бот для рекомендации курсов Coursera')\n",
    "    print(' Если ты уже изучал курсы на английском языке (!!!) на сайте Coursera и оставлял (!!!) отзывы и оценки курсам, выбери один из 3х вариантов:')\n",
    "    print('введи ответ Yes = 1 / No = 0 / введи 2 если тебе нужен поиск курсов по ключевым словам/ авторам/ названиям курсов/ в свободной форме')\n",
    "    answer = input() \n",
    "    return answer #answer00 - на выход число 0-1-2"
   ]
  },
  {
   "cell_type": "code",
   "execution_count": 11,
   "metadata": {},
   "outputs": [],
   "source": [
    "def choose_initial_action(answer):\n",
    "    '''выбор действия после получения ввода - ответа на Приветствие def beginning'''\n",
    "    if answer == '1' or answer == 'Yes' or answer == 'Yes = 1':\n",
    "        check_user_name()\n",
    "    elif answer == '0' or answer == 'No' or answer == 'No = 0':\n",
    "        recommindation_for_newbie()\n",
    "    else:\n",
    "        freeform_search()"
   ]
  },
  {
   "cell_type": "code",
   "execution_count": 14,
   "metadata": {},
   "outputs": [],
   "source": [
    " # если такой ник в базе есть, спрашиваем\n",
    "# хочешь продолжить изучение конкретной области знания или исследовать новую?\n",
    "# введи ответ 1 Yes-продолжить изучение / 0 No-исследовать новую / 2 мне только спросить! - поиск в свободной форме\n",
    "\n",
    "def task_2_choose_action(user_name):\n",
    "    '''рекомендация курсов юзеру из нашей базы отзывов\n",
    "    выбор действия для решения задачи 2''' \n",
    "    print(user_name,' хочешь продолжить изучение конкретной области знания или исследовать новую?')\n",
    "    print('Введи ответ: 1 = Yes -продолжить изучение конкретной области / 0 = No - исследовать новое / введи 2 если тебе нужен поиск курсов по ключевым словам/ авторам/ названиям курсов/ в свободной форме')\n",
    "    answer = input() # 1+1+\n",
    "    if answer == '1' or answer == 'Yes' or answer == 'Yes = 1':\n",
    "        check_user_courses()\n",
    "    elif answer == '0' or answer == 'No' or answer == 'No = 0':\n",
    "        recommindation_for_newbie()\n",
    "    else:\n",
    "        choose_freeform_search()"
   ]
  },
  {
   "cell_type": "code",
   "execution_count": null,
   "metadata": {},
   "outputs": [],
   "source": [
    "def check_user_courses()\n",
    "    '''предсказание оценки на базе ранее оцененных курсов - задача 2\n",
    "    # 1+1+1 \"Yes-продолжить изучение\"\n",
    "# выводим список topics которые пользователь уже изучал и предлагаем выбрать конкретную область, если несколько\n",
    "# несколько -  в каждой выбранной области поступаем так же как ниже а)+б)\n",
    "\n",
    "# если область знаний ранее изученных одна - выводим:\n",
    "# а) сначала топ 3 наиболее близких к уже изученному курсу  без уже изученного курса - решаем задачу 2 TfIdf\n",
    "# на основе поставленных им оценок предсказываем какую оценку он поставит самым популярным и сортируем по убыванию - решаем задачу 3\n",
    "\n",
    "# б) потом топ 3 по взвешенным оценкам в этой области без уже изученного курса - решаем задачу 1\n",
    "# проверяем чтобы а+б не пересекались и упорядочиваем по наивысшей средней оценке'''"
   ]
  },
  {
   "cell_type": "code",
   "execution_count": null,
   "metadata": {},
   "outputs": [],
   "source": []
  },
  {
   "cell_type": "code",
   "execution_count": null,
   "metadata": {},
   "outputs": [],
   "source": []
  },
  {
   "cell_type": "code",
   "execution_count": 15,
   "metadata": {},
   "outputs": [],
   "source": [
    "def check_user_name():\n",
    "    '''проверка наличия ревью от юзернейма = юзер есть в нашей базе'''\n",
    "    print('Введи свой ник на сайте Coursera  ( например Daniel D ) ')\n",
    "    user_name = input()\n",
    "    #user_name = 'Etienne R'\n",
    "    filter_user_name = reviews_eng_courses['reviewer_name'] == user_name\n",
    "    df_by_reviewer_name = reviews_eng_courses.loc[filter_user_name]\n",
    "    if len(df_by_reviewer_name) >= 1:\n",
    "        # значит, юзер есть в нашей базе\n",
    "        #дальше решаем задачу предсказания оценки на базе ранее оцененных курсов - задача 2\n",
    "        task_2(user_name) # вызов функции для решения задачи предсказания оценки на базе ранее оцененных курсов - задача 2\n",
    "    else: # значит, юзера нет в нашей базе\n",
    "        print('Я не вижу твой ник среди оставивших отзыв или оценку на англоязычный курс')\n",
    "        print('Введи 0 если хочешь получить рекомендацию для новичка на сайте Coursera / введи 2 если нужен поиск курсов по ключевым словам/ авторам/ названиям курсов/ в свободной форме')\n",
    "        answer = input() #answer1_0_0\n",
    "        choose_initial_action(answer) # выбор действия после получения ввода"
   ]
  },
  {
   "cell_type": "code",
   "execution_count": 16,
   "metadata": {},
   "outputs": [],
   "source": [
    "def choose_freeform_search():\n",
    "    print('Введи число: если тебе нужен поиск курсов по ключевым темам - 1/ по авторам - 2/ по названиям курсов - 3/ в свободной форме - 4'')\n",
    "    '''выбор действия после получения ввода - ответа на Приветствие def beginning'''\n",
    "    if answer == '1' or answer == 'по ключевым темам' or answer == 'поиск курсов по ключевым темам - 1':\n",
    "        check_topics()\n",
    "    elif answer == '2' or answer == 'по авторам' or answer == 'по авторам - 2':\n",
    "        check_topics()\n",
    "    elif answer == '3' or answer == 'по названиям курсов' or answer == 'по названиям курсов - 3':\n",
    "        check_topics()\n",
    "    else:\n",
    "        freeform_search()\n",
    "    \n",
    "    '''поиск в свободной форме - задача 3''' "
   ]
  },
  {
   "cell_type": "code",
   "execution_count": null,
   "metadata": {},
   "outputs": [],
   "source": [
    "def check_topics():\n",
    "    '''из списка наиболее популярных тем новый !!! пользователь выбирает интересующую его область/подразделам наук/знаний (topics)\n",
    "    # выводим список topics и предлагаем ввести название topics, проверяем наличие в базе или переходим к решению задачи 3 поиск в свободной форме\n",
    "    # в выбранной области выбираем наиболее популярные из топа - решаем задачу 1'''\n",
    "\n",
    "    print('Наиболее популярные сферы обучения /подразделы наук/знаний:')\n",
    "    top_topics = dict(joined_users_reviews['topics'].value_counts().head(10))\n",
    "    dict_keys = list(top_topics.keys()) # список topics - результат отбора и сортировки - решение задачи 1\n",
    "    dict_keys\n",
    "    \n",
    "    print('Введи название интересующей сферы обучения /подраздела наук/знаний ( например Daniel D ) ')\n",
    "    user_name = input()\n",
    "    #user_name = 'Etienne R'\n",
    "'''проверка наличия ревью от юзернейма = юзер есть в нашей базе'''\n",
    "    print('Введи свой ник на сайте Coursera  ( например Daniel D ) ')\n",
    "    user_name = input()\n",
    "    #user_name = 'Etienne R'\n",
    "    filter_user_name = reviews_eng_courses['reviewer_name'] == user_name\n",
    "    df_by_reviewer_name = reviews_eng_courses.loc[filter_user_name]\n",
    "    \n",
    "    if len(df_by_reviewer_name) >= 1:\n",
    "        # значит, юзер есть в нашей базе\n",
    "        #дальше решаем задачу предсказания оценки на базе ранее оцененных курсов - задача 2\n",
    "        task_2(user_name) # вызов функции для решения задачи предсказания оценки на базе ранее оцененных курсов - задача 2\n",
    "    else: # значит, юзера нет в нашей базе"
   ]
  },
  {
   "cell_type": "code",
   "execution_count": null,
   "metadata": {},
   "outputs": [],
   "source": []
  },
  {
   "cell_type": "code",
   "execution_count": null,
   "metadata": {},
   "outputs": [],
   "source": []
  },
  {
   "cell_type": "code",
   "execution_count": null,
   "metadata": {},
   "outputs": [],
   "source": []
  },
  {
   "cell_type": "code",
   "execution_count": 18,
   "metadata": {},
   "outputs": [],
   "source": [
    "def recommindation_for_newbie():\n",
    "    '''Базовая рекомендация курсов на основании оценок пользователей и количества отзывов по курсу - холодный старт\n",
    "                #для нового пользователя\n",
    "                #по запросу \"выучить что-нибудь новое\"\n",
    "    Результат: список названий топовых курсов по следующей метрике: средняя оценка курса, умноженная на нормированное количество рейтингов\n",
    "    '''\n",
    "    # количество рейтингов по каждому курсу \n",
    "    course_id_num_ratings = {}\n",
    "    for i, group in reviews_eng_courses.groupby('course_id'):course_id_num_ratings[i] = group.reviewer_name.unique().shape[0]\n",
    "    # возьмем топ курсов по оценкам\n",
    "    top_courses = reviews_eng_courses.groupby('course_id')[['rating']].mean().sort_values('rating', ascending=False)\n",
    "    # из них возьмем курсы с наивысшей средней оценкой в 5.0\n",
    "    courses_with_highest_rating = top_courses.iloc[np.where(top_courses.rating == 5.0)].index\n",
    "    # средний рейтинг на каждый курс\n",
    "    course_id_mean_rating = {}\n",
    "    for i, group in reviews_eng_courses.groupby('course_id'):course_id_mean_rating[i] = group.rating.mean()\n",
    "\n",
    "    # простые статистики по количеству рейтингов\n",
    "    min_num_ratings = np.min([course_id_num_ratings[f] for f in course_id_num_ratings.keys()])\n",
    "    max_num_ratings = np.max([course_id_num_ratings[f] for f in course_id_num_ratings.keys()])\n",
    "    mean_num_ratings = np.mean([course_id_num_ratings[f] for f in course_id_num_ratings.keys()])\n",
    "    median_num_ratings = np.median([course_id_num_ratings[f] for f in course_id_num_ratings.keys()])\n",
    "\n",
    "    # Oбъединённый датафрейм описания англоязычных курсов с отзывами пользователей - подготовленный датасет\n",
    "    data = joined_users_reviews\n",
    "\n",
    "    # отсортируем курсы по следующей метрике: средняя оценка курса, умноженная на нормированное количество рейтингов\n",
    "    course_new_mark = []\n",
    "    for f in course_id_num_ratings.keys(): course_new_mark.append((f, course_id_mean_rating[f] * (course_id_num_ratings[f] - mean_num_ratings) / (max_num_ratings - min_num_ratings)))\n",
    "    \n",
    "    # собираем в словарь результат расчёта нашей метрики (course_id и средняя взвешенная оценка) и сортируем по убыванию\n",
    "    top_ = dict(sorted(course_new_mark, key=lambda x: x[1], reverse=True))\n",
    "    dict_keys = list(top_.keys()) # список course_id - результат отбора и сортировки - решение задачи 1\n",
    "    return dict_keys\n",
    "    "
   ]
  },
  {
   "cell_type": "code",
   "execution_count": 24,
   "metadata": {},
   "outputs": [],
   "source": [
    "def print_res_recomend_task_1(dict_keys, m,n):\n",
    "    '''выводим топ n курсов по средним оценкам и количеству рейтингов с названиями и ссылками на курсы,\n",
    "    проверяем удовлетворённость юзера и повторяем вывод рекомендаций, пока юзер не ответит 'yes' '''\n",
    "    m=0 # получаем на вход функции или\n",
    "    n=5 # задаём количество курсов для вывода\n",
    "    \n",
    "    df_by_course_title = pd.DataFrame()\n",
    "    yes_no_answer = 'No'\n",
    "    \n",
    "    while yes_no_answer == 'No' or yes_no_answer == 'no':\n",
    "            # внутри цикла повторяем смещение выбранного слайса списка отсортированных курсов для вывода результата рекомендации, пока ответ не = 'да'\n",
    "            # или пока не дойдём до конца списка отсортированных курсов\n",
    "        df_by_course_title = pd.DataFrame()\n",
    "\n",
    "        # выводим топ n курсов по средним оценкам и количеству рейтингов с названиями и ссылками на курсы\n",
    "        print('I highly recommend: ')\n",
    "        for k in dict_keys[m:n]:\n",
    "            filter_course_id = data['course_id'] == k\n",
    "            df_by_course_id = data.loc[filter_course_id][0:1]\n",
    "            df_by_course_title = df_by_course_title.append(df_by_course_id[['title', 'url']])\n",
    "\n",
    "        for i in range(0,n-m):\n",
    "            a = df_by_course_title.iloc[i].values\n",
    "            print(a[0], ' ', a[1])  \n",
    "\n",
    "        print('---')\n",
    "        print('Are you satisfied? Print: Yes / No')\n",
    "        yes_no_answer = input()\n",
    "        m+=5\n",
    "        n+=5 # задаём смещение выбранного слайса списка отсортированных курсов\n",
    "    else:\n",
    "        print(\"Nice! Go check your course!\")\n",
    "        print(\"I will wait you at the beginning with new awesome courses\")\n",
    "        #let's try it all again from the beginning\n",
    "        beginning()\n",
    "        "
   ]
  },
  {
   "cell_type": "code",
   "execution_count": null,
   "metadata": {},
   "outputs": [],
   "source": []
  },
  {
   "cell_type": "code",
   "execution_count": null,
   "metadata": {},
   "outputs": [],
   "source": [
    "# 1+1-0 \"No-исследовать новую\"\n",
    "# выводим список topics и предлагаем ввести название topics или мне только спросить! - поиск в свободной форме - переход в задачу 2\n",
    "# ввод topics\n",
    "# в выбранной области выбираем наиболее релевантные пользователю - \n",
    "# а) сначала топ 3 - на основе поставленных им оценок предсказываем какую оценку он поставит самым популярным и сортируем по убыванию - решаем задачу 3\n",
    "# б) потом топ 3 в выбранной области выбираем наиболее популярные из топа - решаем задачу 1\n",
    "# проверяем чтобы а+б не пересекались и упорядочиваем по наивысшей средней оценке"
   ]
  },
  {
   "cell_type": "code",
   "execution_count": null,
   "metadata": {},
   "outputs": [],
   "source": [
    "# 1+0- нет ника в нашей базе\n",
    "# если такого ника нет в нашей базе отзывов по англоязычным курсам\n",
    "# собираем сведения на месте - КАК СОХРАНИТЬ ПОЛУЧЕННЫЕ ДАННЫЕ???\n",
    "# выводим список topics и предлагаем ввести название topics + оценку от 1 до 5 или ввести  \"3-4 закончили = END\"\n",
    "# повторяем итерацию пока не END и отправляем эти пары курс-оценка для анализа в TfIdf КАК????"
   ]
  },
  {
   "cell_type": "code",
   "execution_count": null,
   "metadata": {},
   "outputs": [],
   "source": []
  },
  {
   "cell_type": "code",
   "execution_count": null,
   "metadata": {},
   "outputs": [],
   "source": []
  },
  {
   "cell_type": "code",
   "execution_count": null,
   "metadata": {},
   "outputs": [],
   "source": []
  },
  {
   "cell_type": "code",
   "execution_count": null,
   "metadata": {},
   "outputs": [],
   "source": [
    "# 0-\n",
    "# if answer = 'No' - не курсы на английском языке\n",
    "# Могу предложить тебе лучший курс из топа по оценкам пользователей в рандомной области знаний\n",
    "# Доверишься богу священного рандома?\n",
    "# введи ответ Yes / No / мне только спросить! - поиск в свободной форме\n",
    "\n",
    "# 0-1+ Yes Доверишься богу священного рандома\n",
    "# выбираем наиболее популярные из топа - решаем задачу 1"
   ]
  },
  {
   "cell_type": "code",
   "execution_count": null,
   "metadata": {},
   "outputs": [],
   "source": [
    "# if answer = 'No' - \n"
   ]
  },
  {
   "cell_type": "code",
   "execution_count": null,
   "metadata": {},
   "outputs": [],
   "source": []
  },
  {
   "cell_type": "code",
   "execution_count": null,
   "metadata": {},
   "outputs": [],
   "source": []
  },
  {
   "cell_type": "code",
   "execution_count": null,
   "metadata": {},
   "outputs": [],
   "source": []
  },
  {
   "cell_type": "code",
   "execution_count": null,
   "metadata": {},
   "outputs": [],
   "source": []
  },
  {
   "cell_type": "code",
   "execution_count": null,
   "metadata": {},
   "outputs": [],
   "source": []
  },
  {
   "cell_type": "code",
   "execution_count": null,
   "metadata": {},
   "outputs": [],
   "source": [
    "# !\n",
    "# мне только спросить ! - поиск в свободной форме - решаем задачу 2 - ищем похожие темы\n",
    "#по названиям курсов + \n",
    "#по топикам + \n",
    "#по навыкам + \n",
    "#по персоналиям авторов курсов"
   ]
  },
  {
   "cell_type": "code",
   "execution_count": null,
   "metadata": {},
   "outputs": [],
   "source": [
    "#"
   ]
  },
  {
   "cell_type": "code",
   "execution_count": null,
   "metadata": {},
   "outputs": [],
   "source": [
    "#"
   ]
  },
  {
   "cell_type": "code",
   "execution_count": null,
   "metadata": {},
   "outputs": [],
   "source": [
    "#"
   ]
  },
  {
   "cell_type": "code",
   "execution_count": null,
   "metadata": {},
   "outputs": [],
   "source": [
    "#"
   ]
  },
  {
   "cell_type": "code",
   "execution_count": null,
   "metadata": {},
   "outputs": [],
   "source": [
    "#"
   ]
  },
  {
   "cell_type": "code",
   "execution_count": null,
   "metadata": {},
   "outputs": [],
   "source": [
    "#"
   ]
  },
  {
   "cell_type": "code",
   "execution_count": null,
   "metadata": {},
   "outputs": [],
   "source": [
    "#"
   ]
  },
  {
   "cell_type": "code",
   "execution_count": null,
   "metadata": {},
   "outputs": [],
   "source": [
    "#"
   ]
  },
  {
   "cell_type": "code",
   "execution_count": null,
   "metadata": {},
   "outputs": [],
   "source": [
    "#"
   ]
  }
 ],
 "metadata": {
  "kernelspec": {
   "display_name": "Python 3",
   "language": "python",
   "name": "python3"
  },
  "language_info": {
   "codemirror_mode": {
    "name": "ipython",
    "version": 3
   },
   "file_extension": ".py",
   "mimetype": "text/x-python",
   "name": "python",
   "nbconvert_exporter": "python",
   "pygments_lexer": "ipython3",
   "version": "3.6.8"
  }
 },
 "nbformat": 4,
 "nbformat_minor": 2
}
