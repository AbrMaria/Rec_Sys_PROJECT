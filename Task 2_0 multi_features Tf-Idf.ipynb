{
 "cells": [
  {
   "cell_type": "code",
   "execution_count": 1,
   "metadata": {},
   "outputs": [],
   "source": [
    "import warnings\n",
    "warnings.filterwarnings('ignore')\n",
    "import matplotlib.pyplot as plt\n",
    "\n",
    "import pandas as pd\n",
    "import numpy as np\n",
    "\n",
    "from tqdm import tqdm\n",
    "tqdm.pandas(desc=\"progress-bar\")\n",
    "from tqdm import tqdm_notebook\n",
    "\n",
    "import gensim\n",
    "from gensim.models import Doc2Vec\n",
    "from gensim.models.doc2vec import TaggedDocument\n",
    "\n",
    "from sklearn import utils\n",
    "from sklearn.model_selection import train_test_split\n",
    "from sklearn.linear_model import LogisticRegression\n",
    "\n",
    "from sklearn.metrics import accuracy_score, f1_score\n",
    "\n",
    "import seaborn as sns\n",
    "\n",
    "import multiprocessing\n",
    "\n",
    "import re\n",
    "\n",
    "from nltk.corpus import stopwords\n",
    "from nltk.stem.snowball import EnglishStemmer\n",
    "\n",
    "%matplotlib inline"
   ]
  },
  {
   "cell_type": "code",
   "execution_count": 2,
   "metadata": {},
   "outputs": [
    {
     "data": {
      "text/html": [
       "<div>\n",
       "<style scoped>\n",
       "    .dataframe tbody tr th:only-of-type {\n",
       "        vertical-align: middle;\n",
       "    }\n",
       "\n",
       "    .dataframe tbody tr th {\n",
       "        vertical-align: top;\n",
       "    }\n",
       "\n",
       "    .dataframe thead th {\n",
       "        text-align: right;\n",
       "    }\n",
       "</style>\n",
       "<table border=\"1\" class=\"dataframe\">\n",
       "  <thead>\n",
       "    <tr style=\"text-align: right;\">\n",
       "      <th></th>\n",
       "      <th>Unnamed: 0</th>\n",
       "      <th>course_id</th>\n",
       "      <th>reviewer_name</th>\n",
       "      <th>rating</th>\n",
       "      <th>review_text</th>\n",
       "      <th>title</th>\n",
       "      <th>topics</th>\n",
       "      <th>about</th>\n",
       "      <th>instructors</th>\n",
       "      <th>average_score</th>\n",
       "      <th>...</th>\n",
       "      <th>reviews_count</th>\n",
       "      <th>skills</th>\n",
       "      <th>syllabus</th>\n",
       "      <th>recommendations</th>\n",
       "      <th>url</th>\n",
       "      <th>already_enrolled</th>\n",
       "      <th>recent_views</th>\n",
       "      <th>recent_views_conversion</th>\n",
       "      <th>hours_to_complete</th>\n",
       "      <th>level_range</th>\n",
       "    </tr>\n",
       "  </thead>\n",
       "  <tbody>\n",
       "    <tr>\n",
       "      <th>0</th>\n",
       "      <td>0</td>\n",
       "      <td>2-speed-it</td>\n",
       "      <td>Ravish</td>\n",
       "      <td>5</td>\n",
       "      <td>Very relevant and useful course designed for CIOs</td>\n",
       "      <td>Two Speed IT: How Companies Can Surf the Digit...</td>\n",
       "      <td>Business Business Essentials</td>\n",
       "      <td>Transform or disappear, the Darwinism of IT: I...</td>\n",
       "      <td>Antoine Gourévitch Vanessa Lyon Eric Baudson</td>\n",
       "      <td>4.4</td>\n",
       "      <td>...</td>\n",
       "      <td>33</td>\n",
       "      <td>NaN</td>\n",
       "      <td>Introduction IT and the CIO in the Digital Wor...</td>\n",
       "      <td>fundamentals-of-management entrepreneurial-thi...</td>\n",
       "      <td>https://www.coursera.org/learn/2-speed-it</td>\n",
       "      <td>16728</td>\n",
       "      <td>5149</td>\n",
       "      <td>324.9</td>\n",
       "      <td>21.0</td>\n",
       "      <td>0.0</td>\n",
       "    </tr>\n",
       "    <tr>\n",
       "      <th>1</th>\n",
       "      <td>1</td>\n",
       "      <td>2-speed-it</td>\n",
       "      <td>Etienne R</td>\n",
       "      <td>2</td>\n",
       "      <td>This course does not say anything about digiti...</td>\n",
       "      <td>Two Speed IT: How Companies Can Surf the Digit...</td>\n",
       "      <td>Business Business Essentials</td>\n",
       "      <td>Transform or disappear, the Darwinism of IT: I...</td>\n",
       "      <td>Antoine Gourévitch Vanessa Lyon Eric Baudson</td>\n",
       "      <td>4.4</td>\n",
       "      <td>...</td>\n",
       "      <td>33</td>\n",
       "      <td>NaN</td>\n",
       "      <td>Introduction IT and the CIO in the Digital Wor...</td>\n",
       "      <td>fundamentals-of-management entrepreneurial-thi...</td>\n",
       "      <td>https://www.coursera.org/learn/2-speed-it</td>\n",
       "      <td>16728</td>\n",
       "      <td>5149</td>\n",
       "      <td>324.9</td>\n",
       "      <td>21.0</td>\n",
       "      <td>0.0</td>\n",
       "    </tr>\n",
       "  </tbody>\n",
       "</table>\n",
       "<p>2 rows × 21 columns</p>\n",
       "</div>"
      ],
      "text/plain": [
       "   Unnamed: 0   course_id reviewer_name  rating  \\\n",
       "0           0  2-speed-it        Ravish       5   \n",
       "1           1  2-speed-it     Etienne R       2   \n",
       "\n",
       "                                         review_text  \\\n",
       "0  Very relevant and useful course designed for CIOs   \n",
       "1  This course does not say anything about digiti...   \n",
       "\n",
       "                                               title  \\\n",
       "0  Two Speed IT: How Companies Can Surf the Digit...   \n",
       "1  Two Speed IT: How Companies Can Surf the Digit...   \n",
       "\n",
       "                         topics  \\\n",
       "0  Business Business Essentials   \n",
       "1  Business Business Essentials   \n",
       "\n",
       "                                               about  \\\n",
       "0  Transform or disappear, the Darwinism of IT: I...   \n",
       "1  Transform or disappear, the Darwinism of IT: I...   \n",
       "\n",
       "                                    instructors  average_score     ...       \\\n",
       "0  Antoine Gourévitch Vanessa Lyon Eric Baudson            4.4     ...        \n",
       "1  Antoine Gourévitch Vanessa Lyon Eric Baudson            4.4     ...        \n",
       "\n",
       "   reviews_count  skills                                           syllabus  \\\n",
       "0             33     NaN  Introduction IT and the CIO in the Digital Wor...   \n",
       "1             33     NaN  Introduction IT and the CIO in the Digital Wor...   \n",
       "\n",
       "                                     recommendations  \\\n",
       "0  fundamentals-of-management entrepreneurial-thi...   \n",
       "1  fundamentals-of-management entrepreneurial-thi...   \n",
       "\n",
       "                                         url already_enrolled  recent_views  \\\n",
       "0  https://www.coursera.org/learn/2-speed-it            16728          5149   \n",
       "1  https://www.coursera.org/learn/2-speed-it            16728          5149   \n",
       "\n",
       "   recent_views_conversion  hours_to_complete  level_range  \n",
       "0                    324.9               21.0          0.0  \n",
       "1                    324.9               21.0          0.0  \n",
       "\n",
       "[2 rows x 21 columns]"
      ]
     },
     "execution_count": 2,
     "metadata": {},
     "output_type": "execute_result"
    }
   ],
   "source": [
    "# Oбъединённый датафрейм описания англоязычных курсов с отзывами пользователей \n",
    "data = pd.read_csv('data.csv')\n",
    "data.head(2)"
   ]
  },
  {
   "cell_type": "code",
   "execution_count": 3,
   "metadata": {},
   "outputs": [
    {
     "data": {
      "text/html": [
       "<div>\n",
       "<style scoped>\n",
       "    .dataframe tbody tr th:only-of-type {\n",
       "        vertical-align: middle;\n",
       "    }\n",
       "\n",
       "    .dataframe tbody tr th {\n",
       "        vertical-align: top;\n",
       "    }\n",
       "\n",
       "    .dataframe thead th {\n",
       "        text-align: right;\n",
       "    }\n",
       "</style>\n",
       "<table border=\"1\" class=\"dataframe\">\n",
       "  <thead>\n",
       "    <tr style=\"text-align: right;\">\n",
       "      <th></th>\n",
       "      <th>course_id</th>\n",
       "      <th>reviewer_name</th>\n",
       "      <th>rating</th>\n",
       "      <th>review_text</th>\n",
       "      <th>title</th>\n",
       "      <th>topics</th>\n",
       "      <th>about</th>\n",
       "      <th>instructors</th>\n",
       "      <th>average_score</th>\n",
       "      <th>ratings_count</th>\n",
       "      <th>reviews_count</th>\n",
       "      <th>skills</th>\n",
       "      <th>syllabus</th>\n",
       "      <th>recommendations</th>\n",
       "      <th>url</th>\n",
       "      <th>already_enrolled</th>\n",
       "      <th>recent_views</th>\n",
       "      <th>recent_views_conversion</th>\n",
       "      <th>hours_to_complete</th>\n",
       "      <th>level_range</th>\n",
       "    </tr>\n",
       "  </thead>\n",
       "  <tbody>\n",
       "    <tr>\n",
       "      <th>0</th>\n",
       "      <td>2-speed-it</td>\n",
       "      <td>Ravish</td>\n",
       "      <td>5</td>\n",
       "      <td>Very relevant and useful course designed for CIOs</td>\n",
       "      <td>Two Speed IT: How Companies Can Surf the Digit...</td>\n",
       "      <td>Business Business Essentials</td>\n",
       "      <td>Transform or disappear, the Darwinism of IT: I...</td>\n",
       "      <td>Antoine Gourévitch Vanessa Lyon Eric Baudson</td>\n",
       "      <td>4.4</td>\n",
       "      <td>33</td>\n",
       "      <td>33</td>\n",
       "      <td></td>\n",
       "      <td>Introduction IT and the CIO in the Digital Wor...</td>\n",
       "      <td>fundamentals-of-management entrepreneurial-thi...</td>\n",
       "      <td>https://www.coursera.org/learn/2-speed-it</td>\n",
       "      <td>16728</td>\n",
       "      <td>5149</td>\n",
       "      <td>324.9</td>\n",
       "      <td>21.0</td>\n",
       "      <td>0.0</td>\n",
       "    </tr>\n",
       "    <tr>\n",
       "      <th>1</th>\n",
       "      <td>2-speed-it</td>\n",
       "      <td>Etienne R</td>\n",
       "      <td>2</td>\n",
       "      <td>This course does not say anything about digiti...</td>\n",
       "      <td>Two Speed IT: How Companies Can Surf the Digit...</td>\n",
       "      <td>Business Business Essentials</td>\n",
       "      <td>Transform or disappear, the Darwinism of IT: I...</td>\n",
       "      <td>Antoine Gourévitch Vanessa Lyon Eric Baudson</td>\n",
       "      <td>4.4</td>\n",
       "      <td>33</td>\n",
       "      <td>33</td>\n",
       "      <td></td>\n",
       "      <td>Introduction IT and the CIO in the Digital Wor...</td>\n",
       "      <td>fundamentals-of-management entrepreneurial-thi...</td>\n",
       "      <td>https://www.coursera.org/learn/2-speed-it</td>\n",
       "      <td>16728</td>\n",
       "      <td>5149</td>\n",
       "      <td>324.9</td>\n",
       "      <td>21.0</td>\n",
       "      <td>0.0</td>\n",
       "    </tr>\n",
       "  </tbody>\n",
       "</table>\n",
       "</div>"
      ],
      "text/plain": [
       "    course_id reviewer_name  rating  \\\n",
       "0  2-speed-it        Ravish       5   \n",
       "1  2-speed-it     Etienne R       2   \n",
       "\n",
       "                                         review_text  \\\n",
       "0  Very relevant and useful course designed for CIOs   \n",
       "1  This course does not say anything about digiti...   \n",
       "\n",
       "                                               title  \\\n",
       "0  Two Speed IT: How Companies Can Surf the Digit...   \n",
       "1  Two Speed IT: How Companies Can Surf the Digit...   \n",
       "\n",
       "                         topics  \\\n",
       "0  Business Business Essentials   \n",
       "1  Business Business Essentials   \n",
       "\n",
       "                                               about  \\\n",
       "0  Transform or disappear, the Darwinism of IT: I...   \n",
       "1  Transform or disappear, the Darwinism of IT: I...   \n",
       "\n",
       "                                    instructors  average_score  ratings_count  \\\n",
       "0  Antoine Gourévitch Vanessa Lyon Eric Baudson            4.4             33   \n",
       "1  Antoine Gourévitch Vanessa Lyon Eric Baudson            4.4             33   \n",
       "\n",
       "   reviews_count skills                                           syllabus  \\\n",
       "0             33         Introduction IT and the CIO in the Digital Wor...   \n",
       "1             33         Introduction IT and the CIO in the Digital Wor...   \n",
       "\n",
       "                                     recommendations  \\\n",
       "0  fundamentals-of-management entrepreneurial-thi...   \n",
       "1  fundamentals-of-management entrepreneurial-thi...   \n",
       "\n",
       "                                         url  already_enrolled  recent_views  \\\n",
       "0  https://www.coursera.org/learn/2-speed-it             16728          5149   \n",
       "1  https://www.coursera.org/learn/2-speed-it             16728          5149   \n",
       "\n",
       "   recent_views_conversion  hours_to_complete  level_range  \n",
       "0                    324.9               21.0          0.0  \n",
       "1                    324.9               21.0          0.0  "
      ]
     },
     "execution_count": 3,
     "metadata": {},
     "output_type": "execute_result"
    }
   ],
   "source": [
    "#избавимся от лишних столбцов\n",
    "data=data.drop(['Unnamed: 0'], axis=1)\n",
    "#заменим NaN\n",
    "data['skills'] = data.skills.fillna(value = '')\n",
    "data.head(2)"
   ]
  },
  {
   "cell_type": "code",
   "execution_count": 4,
   "metadata": {},
   "outputs": [],
   "source": [
    "#data=data.drop(['recommendations'], axis=1)\n",
    "#data=data.drop(['url'], axis=1)"
   ]
  },
  {
   "cell_type": "code",
   "execution_count": null,
   "metadata": {},
   "outputs": [],
   "source": []
  },
  {
   "cell_type": "markdown",
   "metadata": {},
   "source": [
    "#### Токенизация и очистка данных"
   ]
  },
  {
   "cell_type": "code",
   "execution_count": 5,
   "metadata": {},
   "outputs": [],
   "source": [
    "import pymorphy2\n",
    "from nltk.tokenize import word_tokenize\n",
    "import nltk\n",
    "from tqdm import tqdm\n",
    "from pymorphy2 import MorphAnalyzer\n",
    "from pymystem3 import Mystem"
   ]
  },
  {
   "cell_type": "code",
   "execution_count": 6,
   "metadata": {},
   "outputs": [],
   "source": [
    "class MorphProvider:\n",
    "    def __init__(self):\n",
    "        self.cache = {}\n",
    "        self.morph = pymorphy2.MorphAnalyzer()\n",
    "    \n",
    "    def __call__(self, w):\n",
    "        w = w.lower()\n",
    "        cached = self.cache.get(w)\n",
    "        if cached:\n",
    "            return cached\n",
    "        try:\n",
    "            morphed = self.morph.parse(w)[0].normal_form\n",
    "            self.cache[w] = morphed\n",
    "            return morphed\n",
    "        except:\n",
    "            return None\n",
    "    \n",
    "    def morph_string(self, s):\n",
    "        words = word_tokenize(s)\n",
    "        return \" \".join([self.__call__(w) for w in words])"
   ]
  },
  {
   "cell_type": "code",
   "execution_count": 7,
   "metadata": {},
   "outputs": [],
   "source": [
    "morph = MorphProvider()\n",
    "#  нормализовать все тексты во всех колонках"
   ]
  },
  {
   "cell_type": "code",
   "execution_count": 8,
   "metadata": {},
   "outputs": [
    {
     "name": "stderr",
     "output_type": "stream",
     "text": [
      "100%|██████████| 159253/159253 [00:16<00:00, 9846.92it/s] \n"
     ]
    }
   ],
   "source": [
    "data[\"title_normalized\"] = [morph.morph_string(t) for t in tqdm(data.title)]"
   ]
  },
  {
   "cell_type": "code",
   "execution_count": 9,
   "metadata": {},
   "outputs": [
    {
     "name": "stderr",
     "output_type": "stream",
     "text": [
      "100%|██████████| 159253/159253 [03:52<00:00, 683.90it/s] \n"
     ]
    }
   ],
   "source": [
    "data[\"about_normalized\"] = [morph.morph_string(t) for t in tqdm(data.about)]\n"
   ]
  },
  {
   "cell_type": "code",
   "execution_count": 10,
   "metadata": {},
   "outputs": [
    {
     "name": "stderr",
     "output_type": "stream",
     "text": [
      "100%|██████████| 159253/159253 [00:15<00:00, 10207.87it/s]\n"
     ]
    }
   ],
   "source": [
    "data[\"topics_normalized\"] = [morph.morph_string(t) for t in tqdm(data.topics)]\n"
   ]
  },
  {
   "cell_type": "code",
   "execution_count": 11,
   "metadata": {
    "scrolled": true
   },
   "outputs": [
    {
     "name": "stderr",
     "output_type": "stream",
     "text": [
      "100%|██████████| 159253/159253 [00:32<00:00, 4845.57it/s]\n"
     ]
    }
   ],
   "source": [
    "data[\"syllabus_normalized\"] = [morph.morph_string(t) for t in tqdm(data.syllabus)] \n"
   ]
  },
  {
   "cell_type": "code",
   "execution_count": 12,
   "metadata": {
    "scrolled": true
   },
   "outputs": [
    {
     "name": "stderr",
     "output_type": "stream",
     "text": [
      "100%|██████████| 159253/159253 [00:45<00:00, 3531.90it/s]\n"
     ]
    }
   ],
   "source": [
    "data['review_text'] = data['review_text'].astype(str)\n",
    "\n",
    "data[\"review_text_normalized\"] = [morph.morph_string(t) for t in tqdm(data.review_text)]\n"
   ]
  },
  {
   "cell_type": "code",
   "execution_count": 13,
   "metadata": {
    "scrolled": true
   },
   "outputs": [
    {
     "name": "stderr",
     "output_type": "stream",
     "text": [
      "100%|██████████| 159253/159253 [00:15<00:00, 10308.21it/s]\n"
     ]
    }
   ],
   "source": [
    "data['skills'] = data['skills'].astype(str)\n",
    "\n",
    "data[\"skills_normalized\"] = [morph.morph_string(t) for t in tqdm(data.skills)]\n"
   ]
  },
  {
   "cell_type": "code",
   "execution_count": 14,
   "metadata": {
    "scrolled": true
   },
   "outputs": [
    {
     "name": "stderr",
     "output_type": "stream",
     "text": [
      "100%|██████████| 159253/159253 [00:18<00:00, 8646.28it/s] \n"
     ]
    }
   ],
   "source": [
    "data['recommendations'] = data['recommendations'].astype(str)\n",
    "\n",
    "data[\"recommendations_normalized\"] = [morph.morph_string(t) for t in tqdm(data.recommendations)] #использовать как доп фичи или как учителя???\n"
   ]
  },
  {
   "cell_type": "code",
   "execution_count": null,
   "metadata": {},
   "outputs": [],
   "source": []
  },
  {
   "cell_type": "code",
   "execution_count": 15,
   "metadata": {},
   "outputs": [
    {
     "name": "stderr",
     "output_type": "stream",
     "text": [
      "100%|██████████| 159253/159253 [00:00<00:00, 343731.65it/s]\n"
     ]
    }
   ],
   "source": [
    "#очистим от лишних символов текст \n",
    "\n",
    "import re\n",
    "regex = re.compile(\"['A-Za-z\\-]+\")\n",
    "\n",
    "def words_only(text, regex=regex):\n",
    "    try:\n",
    "        return \" \".join(regex.findall(text))\n",
    "    except:\n",
    "        return \"\"\n",
    "    \n",
    "#применим функцию - очистим от лишних символов текст\n",
    "data[\"title_normalized\"] = [words_only(t) for t in tqdm(data.title_normalized)] \n"
   ]
  },
  {
   "cell_type": "code",
   "execution_count": 16,
   "metadata": {},
   "outputs": [
    {
     "name": "stderr",
     "output_type": "stream",
     "text": [
      "100%|██████████| 159253/159253 [00:08<00:00, 18694.92it/s]\n"
     ]
    }
   ],
   "source": [
    "data[\"about_normalized\"] = [words_only(t) for t in tqdm(data.about_normalized)] "
   ]
  },
  {
   "cell_type": "code",
   "execution_count": 17,
   "metadata": {},
   "outputs": [
    {
     "name": "stderr",
     "output_type": "stream",
     "text": [
      "100%|██████████| 159253/159253 [00:00<00:00, 452078.82it/s]\n"
     ]
    }
   ],
   "source": [
    "data[\"topics_normalized\"] = [words_only(t) for t in tqdm(data.topics_normalized)] "
   ]
  },
  {
   "cell_type": "code",
   "execution_count": 18,
   "metadata": {},
   "outputs": [
    {
     "name": "stderr",
     "output_type": "stream",
     "text": [
      "100%|██████████| 159253/159253 [00:01<00:00, 131015.93it/s]\n"
     ]
    }
   ],
   "source": [
    "data[\"syllabus_normalized\"] = [words_only(t) for t in tqdm(data.syllabus_normalized)] "
   ]
  },
  {
   "cell_type": "code",
   "execution_count": 19,
   "metadata": {},
   "outputs": [
    {
     "name": "stderr",
     "output_type": "stream",
     "text": [
      "100%|██████████| 159253/159253 [00:01<00:00, 124715.52it/s]\n"
     ]
    }
   ],
   "source": [
    "data[\"review_text_normalized\"] = [words_only(t) for t in tqdm(data.review_text_normalized)] "
   ]
  },
  {
   "cell_type": "code",
   "execution_count": 20,
   "metadata": {},
   "outputs": [
    {
     "name": "stderr",
     "output_type": "stream",
     "text": [
      "100%|██████████| 159253/159253 [00:00<00:00, 397910.41it/s]\n"
     ]
    }
   ],
   "source": [
    "data[\"skills_normalized\"] = [words_only(t) for t in tqdm(data.skills_normalized)] "
   ]
  },
  {
   "cell_type": "code",
   "execution_count": 21,
   "metadata": {},
   "outputs": [
    {
     "name": "stderr",
     "output_type": "stream",
     "text": [
      "100%|██████████| 159253/159253 [00:00<00:00, 635329.42it/s]\n"
     ]
    }
   ],
   "source": [
    "data[\"recommendations_normalized\"] = [words_only(t) for t in tqdm(data.recommendations_normalized)] "
   ]
  },
  {
   "cell_type": "code",
   "execution_count": 22,
   "metadata": {},
   "outputs": [
    {
     "data": {
      "text/html": [
       "<div>\n",
       "<style scoped>\n",
       "    .dataframe tbody tr th:only-of-type {\n",
       "        vertical-align: middle;\n",
       "    }\n",
       "\n",
       "    .dataframe tbody tr th {\n",
       "        vertical-align: top;\n",
       "    }\n",
       "\n",
       "    .dataframe thead th {\n",
       "        text-align: right;\n",
       "    }\n",
       "</style>\n",
       "<table border=\"1\" class=\"dataframe\">\n",
       "  <thead>\n",
       "    <tr style=\"text-align: right;\">\n",
       "      <th></th>\n",
       "      <th>course_id</th>\n",
       "      <th>reviewer_name</th>\n",
       "      <th>rating</th>\n",
       "      <th>instructors</th>\n",
       "      <th>average_score</th>\n",
       "      <th>ratings_count</th>\n",
       "      <th>reviews_count</th>\n",
       "      <th>already_enrolled</th>\n",
       "      <th>recent_views</th>\n",
       "      <th>recent_views_conversion</th>\n",
       "      <th>hours_to_complete</th>\n",
       "      <th>level_range</th>\n",
       "      <th>title_normalized</th>\n",
       "      <th>about_normalized</th>\n",
       "      <th>topics_normalized</th>\n",
       "      <th>syllabus_normalized</th>\n",
       "      <th>review_text_normalized</th>\n",
       "      <th>skills_normalized</th>\n",
       "      <th>recommendations_normalized</th>\n",
       "    </tr>\n",
       "  </thead>\n",
       "  <tbody>\n",
       "    <tr>\n",
       "      <th>0</th>\n",
       "      <td>2-speed-it</td>\n",
       "      <td>Ravish</td>\n",
       "      <td>5</td>\n",
       "      <td>Antoine Gourévitch Vanessa Lyon Eric Baudson</td>\n",
       "      <td>4.4</td>\n",
       "      <td>33</td>\n",
       "      <td>33</td>\n",
       "      <td>16728</td>\n",
       "      <td>5149</td>\n",
       "      <td>324.9</td>\n",
       "      <td>21.0</td>\n",
       "      <td>0.0</td>\n",
       "      <td>two speed it how companies can surf the digita...</td>\n",
       "      <td>transform or disappear the darwinism of it in ...</td>\n",
       "      <td>business business essentials</td>\n",
       "      <td>introduction it and the cio in the digital wor...</td>\n",
       "      <td>very relevant and useful course designed for cios</td>\n",
       "      <td></td>\n",
       "      <td>fundamentals-of-management entrepreneurial-thi...</td>\n",
       "    </tr>\n",
       "    <tr>\n",
       "      <th>1</th>\n",
       "      <td>2-speed-it</td>\n",
       "      <td>Etienne R</td>\n",
       "      <td>2</td>\n",
       "      <td>Antoine Gourévitch Vanessa Lyon Eric Baudson</td>\n",
       "      <td>4.4</td>\n",
       "      <td>33</td>\n",
       "      <td>33</td>\n",
       "      <td>16728</td>\n",
       "      <td>5149</td>\n",
       "      <td>324.9</td>\n",
       "      <td>21.0</td>\n",
       "      <td>0.0</td>\n",
       "      <td>two speed it how companies can surf the digita...</td>\n",
       "      <td>transform or disappear the darwinism of it in ...</td>\n",
       "      <td>business business essentials</td>\n",
       "      <td>introduction it and the cio in the digital wor...</td>\n",
       "      <td>this course does not say anything about digiti...</td>\n",
       "      <td></td>\n",
       "      <td>fundamentals-of-management entrepreneurial-thi...</td>\n",
       "    </tr>\n",
       "    <tr>\n",
       "      <th>2</th>\n",
       "      <td>2-speed-it</td>\n",
       "      <td>Viswas P</td>\n",
       "      <td>4</td>\n",
       "      <td>Antoine Gourévitch Vanessa Lyon Eric Baudson</td>\n",
       "      <td>4.4</td>\n",
       "      <td>33</td>\n",
       "      <td>33</td>\n",
       "      <td>16728</td>\n",
       "      <td>5149</td>\n",
       "      <td>324.9</td>\n",
       "      <td>21.0</td>\n",
       "      <td>0.0</td>\n",
       "      <td>two speed it how companies can surf the digita...</td>\n",
       "      <td>transform or disappear the darwinism of it in ...</td>\n",
       "      <td>business business essentials</td>\n",
       "      <td>introduction it and the cio in the digital wor...</td>\n",
       "      <td>videos that are presented in french could 've ...</td>\n",
       "      <td></td>\n",
       "      <td>fundamentals-of-management entrepreneurial-thi...</td>\n",
       "    </tr>\n",
       "    <tr>\n",
       "      <th>3</th>\n",
       "      <td>2-speed-it</td>\n",
       "      <td>AN L</td>\n",
       "      <td>3</td>\n",
       "      <td>Antoine Gourévitch Vanessa Lyon Eric Baudson</td>\n",
       "      <td>4.4</td>\n",
       "      <td>33</td>\n",
       "      <td>33</td>\n",
       "      <td>16728</td>\n",
       "      <td>5149</td>\n",
       "      <td>324.9</td>\n",
       "      <td>21.0</td>\n",
       "      <td>0.0</td>\n",
       "      <td>two speed it how companies can surf the digita...</td>\n",
       "      <td>transform or disappear the darwinism of it in ...</td>\n",
       "      <td>business business essentials</td>\n",
       "      <td>introduction it and the cio in the digital wor...</td>\n",
       "      <td>the course content is quite good though it cou...</td>\n",
       "      <td></td>\n",
       "      <td>fundamentals-of-management entrepreneurial-thi...</td>\n",
       "    </tr>\n",
       "    <tr>\n",
       "      <th>4</th>\n",
       "      <td>2-speed-it</td>\n",
       "      <td>Konstantin A</td>\n",
       "      <td>5</td>\n",
       "      <td>Antoine Gourévitch Vanessa Lyon Eric Baudson</td>\n",
       "      <td>4.4</td>\n",
       "      <td>33</td>\n",
       "      <td>33</td>\n",
       "      <td>16728</td>\n",
       "      <td>5149</td>\n",
       "      <td>324.9</td>\n",
       "      <td>21.0</td>\n",
       "      <td>0.0</td>\n",
       "      <td>two speed it how companies can surf the digita...</td>\n",
       "      <td>transform or disappear the darwinism of it in ...</td>\n",
       "      <td>business business essentials</td>\n",
       "      <td>introduction it and the cio in the digital wor...</td>\n",
       "      <td>great piece of work i especially liked a few '...</td>\n",
       "      <td></td>\n",
       "      <td>fundamentals-of-management entrepreneurial-thi...</td>\n",
       "    </tr>\n",
       "  </tbody>\n",
       "</table>\n",
       "</div>"
      ],
      "text/plain": [
       "    course_id  reviewer_name  rating  \\\n",
       "0  2-speed-it         Ravish       5   \n",
       "1  2-speed-it      Etienne R       2   \n",
       "2  2-speed-it       Viswas P       4   \n",
       "3  2-speed-it           AN L       3   \n",
       "4  2-speed-it  Konstantin A        5   \n",
       "\n",
       "                                    instructors  average_score  ratings_count  \\\n",
       "0  Antoine Gourévitch Vanessa Lyon Eric Baudson            4.4             33   \n",
       "1  Antoine Gourévitch Vanessa Lyon Eric Baudson            4.4             33   \n",
       "2  Antoine Gourévitch Vanessa Lyon Eric Baudson            4.4             33   \n",
       "3  Antoine Gourévitch Vanessa Lyon Eric Baudson            4.4             33   \n",
       "4  Antoine Gourévitch Vanessa Lyon Eric Baudson            4.4             33   \n",
       "\n",
       "   reviews_count  already_enrolled  recent_views  recent_views_conversion  \\\n",
       "0             33             16728          5149                    324.9   \n",
       "1             33             16728          5149                    324.9   \n",
       "2             33             16728          5149                    324.9   \n",
       "3             33             16728          5149                    324.9   \n",
       "4             33             16728          5149                    324.9   \n",
       "\n",
       "   hours_to_complete  level_range  \\\n",
       "0               21.0          0.0   \n",
       "1               21.0          0.0   \n",
       "2               21.0          0.0   \n",
       "3               21.0          0.0   \n",
       "4               21.0          0.0   \n",
       "\n",
       "                                    title_normalized  \\\n",
       "0  two speed it how companies can surf the digita...   \n",
       "1  two speed it how companies can surf the digita...   \n",
       "2  two speed it how companies can surf the digita...   \n",
       "3  two speed it how companies can surf the digita...   \n",
       "4  two speed it how companies can surf the digita...   \n",
       "\n",
       "                                    about_normalized  \\\n",
       "0  transform or disappear the darwinism of it in ...   \n",
       "1  transform or disappear the darwinism of it in ...   \n",
       "2  transform or disappear the darwinism of it in ...   \n",
       "3  transform or disappear the darwinism of it in ...   \n",
       "4  transform or disappear the darwinism of it in ...   \n",
       "\n",
       "              topics_normalized  \\\n",
       "0  business business essentials   \n",
       "1  business business essentials   \n",
       "2  business business essentials   \n",
       "3  business business essentials   \n",
       "4  business business essentials   \n",
       "\n",
       "                                 syllabus_normalized  \\\n",
       "0  introduction it and the cio in the digital wor...   \n",
       "1  introduction it and the cio in the digital wor...   \n",
       "2  introduction it and the cio in the digital wor...   \n",
       "3  introduction it and the cio in the digital wor...   \n",
       "4  introduction it and the cio in the digital wor...   \n",
       "\n",
       "                              review_text_normalized skills_normalized  \\\n",
       "0  very relevant and useful course designed for cios                     \n",
       "1  this course does not say anything about digiti...                     \n",
       "2  videos that are presented in french could 've ...                     \n",
       "3  the course content is quite good though it cou...                     \n",
       "4  great piece of work i especially liked a few '...                     \n",
       "\n",
       "                          recommendations_normalized  \n",
       "0  fundamentals-of-management entrepreneurial-thi...  \n",
       "1  fundamentals-of-management entrepreneurial-thi...  \n",
       "2  fundamentals-of-management entrepreneurial-thi...  \n",
       "3  fundamentals-of-management entrepreneurial-thi...  \n",
       "4  fundamentals-of-management entrepreneurial-thi...  "
      ]
     },
     "execution_count": 22,
     "metadata": {},
     "output_type": "execute_result"
    }
   ],
   "source": [
    "data_normalized = data[['course_id','reviewer_name','rating',\n",
    "                       'instructors','average_score','ratings_count','reviews_count',\n",
    "                       'already_enrolled','recent_views','recent_views_conversion',\n",
    "                       'hours_to_complete','level_range','title_normalized','about_normalized',\n",
    "                       'topics_normalized','syllabus_normalized','review_text_normalized','skills_normalized',\n",
    "                       'recommendations_normalized']]\n",
    "data_normalized.head()"
   ]
  },
  {
   "cell_type": "code",
   "execution_count": null,
   "metadata": {},
   "outputs": [],
   "source": []
  },
  {
   "cell_type": "code",
   "execution_count": null,
   "metadata": {},
   "outputs": [],
   "source": []
  },
  {
   "cell_type": "code",
   "execution_count": null,
   "metadata": {},
   "outputs": [],
   "source": []
  },
  {
   "cell_type": "code",
   "execution_count": null,
   "metadata": {},
   "outputs": [],
   "source": []
  },
  {
   "cell_type": "code",
   "execution_count": null,
   "metadata": {},
   "outputs": [],
   "source": []
  },
  {
   "cell_type": "code",
   "execution_count": null,
   "metadata": {},
   "outputs": [],
   "source": []
  },
  {
   "cell_type": "code",
   "execution_count": 23,
   "metadata": {},
   "outputs": [],
   "source": [
    "#Токенизация"
   ]
  },
  {
   "cell_type": "code",
   "execution_count": 24,
   "metadata": {},
   "outputs": [],
   "source": [
    "import re\n",
    "\n",
    "from nltk.corpus import stopwords\n",
    "from nltk.stem.snowball import EnglishStemmer"
   ]
  },
  {
   "cell_type": "code",
   "execution_count": 25,
   "metadata": {},
   "outputs": [],
   "source": [
    "mystopwords = stopwords.words('english') + [\"i'm\", '-', \"i've\"] + [\"\\\\\", \"\\\"\", \"'\", \"\\'\"] + ['many','get','one','way','courses','lot','much','could','really', 'would','also', 'course']\n",
    "regex = re.compile(\"['A-Za-z\\-]+\")\n",
    "\n",
    "def tokenize(text, regex=regex, stopwords=mystopwords):\n",
    "    \"\"\" Tokenize all tokens from text string\n",
    "        Returns array of tokens\n",
    "    \"\"\"\n",
    "    try:\n",
    "        text = \" \".join(regex.findall(text)).lower()\n",
    "        tokens = ' '.join([token for token in text.split(' ') if not token in stopwords])\n",
    "        return tokens\n",
    "    except:\n",
    "        return []"
   ]
  },
  {
   "cell_type": "code",
   "execution_count": null,
   "metadata": {},
   "outputs": [],
   "source": []
  },
  {
   "cell_type": "code",
   "execution_count": 26,
   "metadata": {},
   "outputs": [
    {
     "data": {
      "text/html": [
       "<div>\n",
       "<style scoped>\n",
       "    .dataframe tbody tr th:only-of-type {\n",
       "        vertical-align: middle;\n",
       "    }\n",
       "\n",
       "    .dataframe tbody tr th {\n",
       "        vertical-align: top;\n",
       "    }\n",
       "\n",
       "    .dataframe thead th {\n",
       "        text-align: right;\n",
       "    }\n",
       "</style>\n",
       "<table border=\"1\" class=\"dataframe\">\n",
       "  <thead>\n",
       "    <tr style=\"text-align: right;\">\n",
       "      <th></th>\n",
       "      <th>course_id</th>\n",
       "      <th>reviewer_name</th>\n",
       "      <th>rating</th>\n",
       "      <th>instructors</th>\n",
       "      <th>average_score</th>\n",
       "      <th>ratings_count</th>\n",
       "      <th>reviews_count</th>\n",
       "      <th>already_enrolled</th>\n",
       "      <th>recent_views</th>\n",
       "      <th>recent_views_conversion</th>\n",
       "      <th>hours_to_complete</th>\n",
       "      <th>level_range</th>\n",
       "      <th>title_normalized_tokenize</th>\n",
       "      <th>about_normalized_tokenize</th>\n",
       "      <th>topics_normalized_tokenize</th>\n",
       "      <th>syllabus_normalized_tokenize</th>\n",
       "      <th>review_text_normalized_tokenize</th>\n",
       "      <th>skills_normalized_tokenize</th>\n",
       "      <th>recommendations_normalized_tokenize</th>\n",
       "    </tr>\n",
       "  </thead>\n",
       "  <tbody>\n",
       "    <tr>\n",
       "      <th>0</th>\n",
       "      <td>2-speed-it</td>\n",
       "      <td>Ravish</td>\n",
       "      <td>5</td>\n",
       "      <td>Antoine Gourévitch Vanessa Lyon Eric Baudson</td>\n",
       "      <td>4.4</td>\n",
       "      <td>33</td>\n",
       "      <td>33</td>\n",
       "      <td>16728</td>\n",
       "      <td>5149</td>\n",
       "      <td>324.9</td>\n",
       "      <td>21.0</td>\n",
       "      <td>0.0</td>\n",
       "      <td>two speed companies surf digital wave bcg pers...</td>\n",
       "      <td>transform disappear darwinism order adapt digi...</td>\n",
       "      <td>business business essentials</td>\n",
       "      <td>introduction cio digital world steer balance s...</td>\n",
       "      <td>relevant useful designed cios</td>\n",
       "      <td></td>\n",
       "      <td>fundamentals-of-management entrepreneurial-thi...</td>\n",
       "    </tr>\n",
       "    <tr>\n",
       "      <th>1</th>\n",
       "      <td>2-speed-it</td>\n",
       "      <td>Etienne R</td>\n",
       "      <td>2</td>\n",
       "      <td>Antoine Gourévitch Vanessa Lyon Eric Baudson</td>\n",
       "      <td>4.4</td>\n",
       "      <td>33</td>\n",
       "      <td>33</td>\n",
       "      <td>16728</td>\n",
       "      <td>5149</td>\n",
       "      <td>324.9</td>\n",
       "      <td>21.0</td>\n",
       "      <td>0.0</td>\n",
       "      <td>two speed companies surf digital wave bcg pers...</td>\n",
       "      <td>transform disappear darwinism order adapt digi...</td>\n",
       "      <td>business business essentials</td>\n",
       "      <td>introduction cio digital world steer balance s...</td>\n",
       "      <td>say anything digitization core subject digital...</td>\n",
       "      <td></td>\n",
       "      <td>fundamentals-of-management entrepreneurial-thi...</td>\n",
       "    </tr>\n",
       "    <tr>\n",
       "      <th>2</th>\n",
       "      <td>2-speed-it</td>\n",
       "      <td>Viswas P</td>\n",
       "      <td>4</td>\n",
       "      <td>Antoine Gourévitch Vanessa Lyon Eric Baudson</td>\n",
       "      <td>4.4</td>\n",
       "      <td>33</td>\n",
       "      <td>33</td>\n",
       "      <td>16728</td>\n",
       "      <td>5149</td>\n",
       "      <td>324.9</td>\n",
       "      <td>21.0</td>\n",
       "      <td>0.0</td>\n",
       "      <td>two speed companies surf digital wave bcg pers...</td>\n",
       "      <td>transform disappear darwinism order adapt digi...</td>\n",
       "      <td>business business essentials</td>\n",
       "      <td>introduction cio digital world steer balance s...</td>\n",
       "      <td>videos presented french 've translated english</td>\n",
       "      <td></td>\n",
       "      <td>fundamentals-of-management entrepreneurial-thi...</td>\n",
       "    </tr>\n",
       "    <tr>\n",
       "      <th>3</th>\n",
       "      <td>2-speed-it</td>\n",
       "      <td>AN L</td>\n",
       "      <td>3</td>\n",
       "      <td>Antoine Gourévitch Vanessa Lyon Eric Baudson</td>\n",
       "      <td>4.4</td>\n",
       "      <td>33</td>\n",
       "      <td>33</td>\n",
       "      <td>16728</td>\n",
       "      <td>5149</td>\n",
       "      <td>324.9</td>\n",
       "      <td>21.0</td>\n",
       "      <td>0.0</td>\n",
       "      <td>two speed companies surf digital wave bcg pers...</td>\n",
       "      <td>transform disappear darwinism order adapt digi...</td>\n",
       "      <td>business business essentials</td>\n",
       "      <td>introduction cio digital world steer balance s...</td>\n",
       "      <td>content quite good though deeper areas peer re...</td>\n",
       "      <td></td>\n",
       "      <td>fundamentals-of-management entrepreneurial-thi...</td>\n",
       "    </tr>\n",
       "    <tr>\n",
       "      <th>4</th>\n",
       "      <td>2-speed-it</td>\n",
       "      <td>Konstantin A</td>\n",
       "      <td>5</td>\n",
       "      <td>Antoine Gourévitch Vanessa Lyon Eric Baudson</td>\n",
       "      <td>4.4</td>\n",
       "      <td>33</td>\n",
       "      <td>33</td>\n",
       "      <td>16728</td>\n",
       "      <td>5149</td>\n",
       "      <td>324.9</td>\n",
       "      <td>21.0</td>\n",
       "      <td>0.0</td>\n",
       "      <td>two speed companies surf digital wave bcg pers...</td>\n",
       "      <td>transform disappear darwinism order adapt digi...</td>\n",
       "      <td>business business essentials</td>\n",
       "      <td>introduction cio digital world steer balance s...</td>\n",
       "      <td>great piece work especially liked 'lifehacks cio</td>\n",
       "      <td></td>\n",
       "      <td>fundamentals-of-management entrepreneurial-thi...</td>\n",
       "    </tr>\n",
       "  </tbody>\n",
       "</table>\n",
       "</div>"
      ],
      "text/plain": [
       "    course_id  reviewer_name  rating  \\\n",
       "0  2-speed-it         Ravish       5   \n",
       "1  2-speed-it      Etienne R       2   \n",
       "2  2-speed-it       Viswas P       4   \n",
       "3  2-speed-it           AN L       3   \n",
       "4  2-speed-it  Konstantin A        5   \n",
       "\n",
       "                                    instructors  average_score  ratings_count  \\\n",
       "0  Antoine Gourévitch Vanessa Lyon Eric Baudson            4.4             33   \n",
       "1  Antoine Gourévitch Vanessa Lyon Eric Baudson            4.4             33   \n",
       "2  Antoine Gourévitch Vanessa Lyon Eric Baudson            4.4             33   \n",
       "3  Antoine Gourévitch Vanessa Lyon Eric Baudson            4.4             33   \n",
       "4  Antoine Gourévitch Vanessa Lyon Eric Baudson            4.4             33   \n",
       "\n",
       "   reviews_count  already_enrolled  recent_views  recent_views_conversion  \\\n",
       "0             33             16728          5149                    324.9   \n",
       "1             33             16728          5149                    324.9   \n",
       "2             33             16728          5149                    324.9   \n",
       "3             33             16728          5149                    324.9   \n",
       "4             33             16728          5149                    324.9   \n",
       "\n",
       "   hours_to_complete  level_range  \\\n",
       "0               21.0          0.0   \n",
       "1               21.0          0.0   \n",
       "2               21.0          0.0   \n",
       "3               21.0          0.0   \n",
       "4               21.0          0.0   \n",
       "\n",
       "                           title_normalized_tokenize  \\\n",
       "0  two speed companies surf digital wave bcg pers...   \n",
       "1  two speed companies surf digital wave bcg pers...   \n",
       "2  two speed companies surf digital wave bcg pers...   \n",
       "3  two speed companies surf digital wave bcg pers...   \n",
       "4  two speed companies surf digital wave bcg pers...   \n",
       "\n",
       "                           about_normalized_tokenize  \\\n",
       "0  transform disappear darwinism order adapt digi...   \n",
       "1  transform disappear darwinism order adapt digi...   \n",
       "2  transform disappear darwinism order adapt digi...   \n",
       "3  transform disappear darwinism order adapt digi...   \n",
       "4  transform disappear darwinism order adapt digi...   \n",
       "\n",
       "     topics_normalized_tokenize  \\\n",
       "0  business business essentials   \n",
       "1  business business essentials   \n",
       "2  business business essentials   \n",
       "3  business business essentials   \n",
       "4  business business essentials   \n",
       "\n",
       "                        syllabus_normalized_tokenize  \\\n",
       "0  introduction cio digital world steer balance s...   \n",
       "1  introduction cio digital world steer balance s...   \n",
       "2  introduction cio digital world steer balance s...   \n",
       "3  introduction cio digital world steer balance s...   \n",
       "4  introduction cio digital world steer balance s...   \n",
       "\n",
       "                     review_text_normalized_tokenize  \\\n",
       "0                      relevant useful designed cios   \n",
       "1  say anything digitization core subject digital...   \n",
       "2     videos presented french 've translated english   \n",
       "3  content quite good though deeper areas peer re...   \n",
       "4   great piece work especially liked 'lifehacks cio   \n",
       "\n",
       "  skills_normalized_tokenize  \\\n",
       "0                              \n",
       "1                              \n",
       "2                              \n",
       "3                              \n",
       "4                              \n",
       "\n",
       "                 recommendations_normalized_tokenize  \n",
       "0  fundamentals-of-management entrepreneurial-thi...  \n",
       "1  fundamentals-of-management entrepreneurial-thi...  \n",
       "2  fundamentals-of-management entrepreneurial-thi...  \n",
       "3  fundamentals-of-management entrepreneurial-thi...  \n",
       "4  fundamentals-of-management entrepreneurial-thi...  "
      ]
     },
     "execution_count": 26,
     "metadata": {},
     "output_type": "execute_result"
    }
   ],
   "source": [
    "data_normalized_tokenize = data_normalized[['course_id','reviewer_name','rating',\n",
    "                       'instructors','average_score','ratings_count','reviews_count',\n",
    "                       'already_enrolled','recent_views','recent_views_conversion',\n",
    "                       'hours_to_complete','level_range']]\n",
    "\n",
    "data_normalized_tokenize['title_normalized_tokenize'] = data_normalized.title_normalized.apply(tokenize)\n",
    "data_normalized_tokenize['about_normalized_tokenize'] = data_normalized.about_normalized.apply(tokenize)\n",
    "data_normalized_tokenize['topics_normalized_tokenize'] = data_normalized.topics_normalized.apply(tokenize)\n",
    "data_normalized_tokenize['syllabus_normalized_tokenize'] = data_normalized.syllabus_normalized.apply(tokenize)\n",
    "data_normalized_tokenize['review_text_normalized_tokenize'] = data_normalized.review_text_normalized.apply(tokenize)\n",
    "data_normalized_tokenize['skills_normalized_tokenize'] = data_normalized.skills_normalized.apply(tokenize)\n",
    "data_normalized_tokenize['recommendations_normalized_tokenize'] = data_normalized.recommendations_normalized.apply(tokenize)\n",
    "\n",
    "\n",
    "data_normalized_tokenize.head()"
   ]
  },
  {
   "cell_type": "code",
   "execution_count": null,
   "metadata": {},
   "outputs": [],
   "source": []
  },
  {
   "cell_type": "code",
   "execution_count": null,
   "metadata": {},
   "outputs": [],
   "source": [
    "   "
   ]
  },
  {
   "cell_type": "code",
   "execution_count": null,
   "metadata": {},
   "outputs": [],
   "source": []
  }
 ],
 "metadata": {
  "kernelspec": {
   "display_name": "Python 3",
   "language": "python",
   "name": "python3"
  },
  "language_info": {
   "codemirror_mode": {
    "name": "ipython",
    "version": 3
   },
   "file_extension": ".py",
   "mimetype": "text/x-python",
   "name": "python",
   "nbconvert_exporter": "python",
   "pygments_lexer": "ipython3",
   "version": "3.6.8"
  }
 },
 "nbformat": 4,
 "nbformat_minor": 2
}
