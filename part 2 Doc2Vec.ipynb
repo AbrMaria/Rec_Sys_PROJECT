{
 "cells": [
  {
   "cell_type": "code",
   "execution_count": 1,
   "metadata": {},
   "outputs": [],
   "source": [
    "import pandas as pd\n",
    "import numpy as np\n",
    "\n",
    "%matplotlib inline\n",
    "import matplotlib.pyplot as plt\n",
    "import datetime\n",
    "import time\n",
    "import re\n",
    "import seaborn as sns\n",
    "import multiprocessing\n",
    "\n",
    "import warnings\n",
    "warnings.filterwarnings('ignore')\n",
    "\n",
    "from tqdm import tqdm\n",
    "tqdm.pandas(desc=\"progress-bar\")\n",
    "\n",
    "import gensim\n",
    "from gensim.models import Doc2Vec\n",
    "from gensim.models.doc2vec import TaggedDocument\n",
    "\n",
    "from nltk.corpus import stopwords\n",
    "from nltk.stem.snowball import EnglishStemmer\n",
    "\n",
    "from sklearn.decomposition import PCA\n",
    "from sklearn.preprocessing import StandardScaler\n",
    "\n",
    "import xgboost\n",
    "import statsmodels.api as sm\n",
    "import statsmodels.formula.api as smf\n",
    "from scipy import stats\n",
    "\n",
    "from sklearn import utils\n",
    "from sklearn.metrics import accuracy_score, f1_score, brier_score_loss\n",
    "from sklearn.model_selection import train_test_split, KFold, cross_val_score\n",
    "from sklearn.ensemble import RandomForestClassifier\n",
    "from sklearn.metrics import f1_score,confusion_matrix\n",
    "from sklearn.metrics import accuracy_score, roc_auc_score, roc_curve\n",
    "from sklearn.linear_model import LogisticRegression"
   ]
  },
  {
   "cell_type": "code",
   "execution_count": 2,
   "metadata": {},
   "outputs": [
    {
     "data": {
      "text/html": [
       "<div>\n",
       "<style scoped>\n",
       "    .dataframe tbody tr th:only-of-type {\n",
       "        vertical-align: middle;\n",
       "    }\n",
       "\n",
       "    .dataframe tbody tr th {\n",
       "        vertical-align: top;\n",
       "    }\n",
       "\n",
       "    .dataframe thead th {\n",
       "        text-align: right;\n",
       "    }\n",
       "</style>\n",
       "<table border=\"1\" class=\"dataframe\">\n",
       "  <thead>\n",
       "    <tr style=\"text-align: right;\">\n",
       "      <th></th>\n",
       "      <th>Unnamed: 0</th>\n",
       "      <th>Unnamed: 0.1</th>\n",
       "      <th>course_id</th>\n",
       "      <th>title</th>\n",
       "      <th>topics</th>\n",
       "      <th>about</th>\n",
       "      <th>instructors</th>\n",
       "      <th>language</th>\n",
       "      <th>metrics</th>\n",
       "      <th>product_glance</th>\n",
       "      <th>average_score</th>\n",
       "      <th>ratings_count</th>\n",
       "      <th>reviews_count</th>\n",
       "      <th>skills</th>\n",
       "      <th>syllabus</th>\n",
       "      <th>recommendations</th>\n",
       "      <th>url</th>\n",
       "    </tr>\n",
       "  </thead>\n",
       "  <tbody>\n",
       "    <tr>\n",
       "      <th>0</th>\n",
       "      <td>0</td>\n",
       "      <td>0</td>\n",
       "      <td>2-speed-it</td>\n",
       "      <td>Two Speed IT: How Companies Can Surf the Digit...</td>\n",
       "      <td>['Business', 'Business Essentials']</td>\n",
       "      <td>Transform or disappear, the Darwinism of IT: I...</td>\n",
       "      <td>['Antoine Gourévitch', 'Vanessa Lyon', 'Eric B...</td>\n",
       "      <td>English</td>\n",
       "      <td>['16,728 already enrolled!', '5,149 recent vie...</td>\n",
       "      <td>['100% online', 'Flexible deadlines', 'Approx....</td>\n",
       "      <td>4.4</td>\n",
       "      <td>33</td>\n",
       "      <td>33</td>\n",
       "      <td>[]</td>\n",
       "      <td>['Introduction', 'IT and the CIO in the Digita...</td>\n",
       "      <td>['fundamentals-of-management', 'entrepreneuria...</td>\n",
       "      <td>https://www.coursera.org/learn/2-speed-it</td>\n",
       "    </tr>\n",
       "    <tr>\n",
       "      <th>1</th>\n",
       "      <td>5</td>\n",
       "      <td>5</td>\n",
       "      <td>3d-printing-applications</td>\n",
       "      <td>3D Printing Applications</td>\n",
       "      <td>['Business', 'Entrepreneurship']</td>\n",
       "      <td>This course will help you understand how 3D pr...</td>\n",
       "      <td>['Vishal Sachdev']</td>\n",
       "      <td>English</td>\n",
       "      <td>['11,308 already enrolled!', '8,209 recent vie...</td>\n",
       "      <td>['100% online', 'Flexible deadlines', 'Beginne...</td>\n",
       "      <td>4.5</td>\n",
       "      <td>92</td>\n",
       "      <td>92</td>\n",
       "      <td>[]</td>\n",
       "      <td>['Course Orientation', 'Module 1: 3D Printing ...</td>\n",
       "      <td>['mechanics2', 'beam-bending']</td>\n",
       "      <td>https://www.coursera.org/learn/3d-printing-app...</td>\n",
       "    </tr>\n",
       "  </tbody>\n",
       "</table>\n",
       "</div>"
      ],
      "text/plain": [
       "   Unnamed: 0  Unnamed: 0.1                 course_id  \\\n",
       "0           0             0                2-speed-it   \n",
       "1           5             5  3d-printing-applications   \n",
       "\n",
       "                                               title  \\\n",
       "0  Two Speed IT: How Companies Can Surf the Digit...   \n",
       "1                           3D Printing Applications   \n",
       "\n",
       "                                topics  \\\n",
       "0  ['Business', 'Business Essentials']   \n",
       "1     ['Business', 'Entrepreneurship']   \n",
       "\n",
       "                                               about  \\\n",
       "0  Transform or disappear, the Darwinism of IT: I...   \n",
       "1  This course will help you understand how 3D pr...   \n",
       "\n",
       "                                         instructors language  \\\n",
       "0  ['Antoine Gourévitch', 'Vanessa Lyon', 'Eric B...  English   \n",
       "1                                 ['Vishal Sachdev']  English   \n",
       "\n",
       "                                             metrics  \\\n",
       "0  ['16,728 already enrolled!', '5,149 recent vie...   \n",
       "1  ['11,308 already enrolled!', '8,209 recent vie...   \n",
       "\n",
       "                                      product_glance  average_score  \\\n",
       "0  ['100% online', 'Flexible deadlines', 'Approx....            4.4   \n",
       "1  ['100% online', 'Flexible deadlines', 'Beginne...            4.5   \n",
       "\n",
       "   ratings_count  reviews_count skills  \\\n",
       "0             33             33     []   \n",
       "1             92             92     []   \n",
       "\n",
       "                                            syllabus  \\\n",
       "0  ['Introduction', 'IT and the CIO in the Digita...   \n",
       "1  ['Course Orientation', 'Module 1: 3D Printing ...   \n",
       "\n",
       "                                     recommendations  \\\n",
       "0  ['fundamentals-of-management', 'entrepreneuria...   \n",
       "1                     ['mechanics2', 'beam-bending']   \n",
       "\n",
       "                                                 url  \n",
       "0          https://www.coursera.org/learn/2-speed-it  \n",
       "1  https://www.coursera.org/learn/3d-printing-app...  "
      ]
     },
     "execution_count": 2,
     "metadata": {},
     "output_type": "execute_result"
    }
   ],
   "source": [
    "# датасет с описанием англоязычных курсов\n",
    "courses_eng = pd.read_csv('courses_eng.csv')\n",
    "courses_eng.head(2)"
   ]
  },
  {
   "cell_type": "code",
   "execution_count": 3,
   "metadata": {},
   "outputs": [
    {
     "data": {
      "text/html": [
       "<div>\n",
       "<style scoped>\n",
       "    .dataframe tbody tr th:only-of-type {\n",
       "        vertical-align: middle;\n",
       "    }\n",
       "\n",
       "    .dataframe tbody tr th {\n",
       "        vertical-align: top;\n",
       "    }\n",
       "\n",
       "    .dataframe thead th {\n",
       "        text-align: right;\n",
       "    }\n",
       "</style>\n",
       "<table border=\"1\" class=\"dataframe\">\n",
       "  <thead>\n",
       "    <tr style=\"text-align: right;\">\n",
       "      <th></th>\n",
       "      <th>url</th>\n",
       "      <th>course_id</th>\n",
       "      <th>reviewer_name</th>\n",
       "      <th>rating</th>\n",
       "      <th>review_text</th>\n",
       "    </tr>\n",
       "  </thead>\n",
       "  <tbody>\n",
       "    <tr>\n",
       "      <th>0</th>\n",
       "      <td>https://www.coursera.org/learn/2-speed-it/revi...</td>\n",
       "      <td>2-speed-it</td>\n",
       "      <td>Ravish</td>\n",
       "      <td>5</td>\n",
       "      <td>Very relevant and useful course designed for CIOs</td>\n",
       "    </tr>\n",
       "    <tr>\n",
       "      <th>1</th>\n",
       "      <td>https://www.coursera.org/learn/2-speed-it/revi...</td>\n",
       "      <td>2-speed-it</td>\n",
       "      <td>Etienne R</td>\n",
       "      <td>2</td>\n",
       "      <td>This course does not say anything about digiti...</td>\n",
       "    </tr>\n",
       "    <tr>\n",
       "      <th>2</th>\n",
       "      <td>https://www.coursera.org/learn/2-speed-it/revi...</td>\n",
       "      <td>2-speed-it</td>\n",
       "      <td>Viswas P</td>\n",
       "      <td>4</td>\n",
       "      <td>Videos that are presented in French could've b...</td>\n",
       "    </tr>\n",
       "    <tr>\n",
       "      <th>3</th>\n",
       "      <td>https://www.coursera.org/learn/2-speed-it/revi...</td>\n",
       "      <td>2-speed-it</td>\n",
       "      <td>AN L</td>\n",
       "      <td>3</td>\n",
       "      <td>The course content is quite good, though it co...</td>\n",
       "    </tr>\n",
       "    <tr>\n",
       "      <th>4</th>\n",
       "      <td>https://www.coursera.org/learn/2-speed-it/revi...</td>\n",
       "      <td>2-speed-it</td>\n",
       "      <td>Konstantin A</td>\n",
       "      <td>5</td>\n",
       "      <td>Great piece of work, I especially liked a few ...</td>\n",
       "    </tr>\n",
       "  </tbody>\n",
       "</table>\n",
       "</div>"
      ],
      "text/plain": [
       "                                                 url   course_id  \\\n",
       "0  https://www.coursera.org/learn/2-speed-it/revi...  2-speed-it   \n",
       "1  https://www.coursera.org/learn/2-speed-it/revi...  2-speed-it   \n",
       "2  https://www.coursera.org/learn/2-speed-it/revi...  2-speed-it   \n",
       "3  https://www.coursera.org/learn/2-speed-it/revi...  2-speed-it   \n",
       "4  https://www.coursera.org/learn/2-speed-it/revi...  2-speed-it   \n",
       "\n",
       "   reviewer_name  rating                                        review_text  \n",
       "0         Ravish       5  Very relevant and useful course designed for CIOs  \n",
       "1      Etienne R       2  This course does not say anything about digiti...  \n",
       "2       Viswas P       4  Videos that are presented in French could've b...  \n",
       "3           AN L       3  The course content is quite good, though it co...  \n",
       "4  Konstantin A        5  Great piece of work, I especially liked a few ...  "
      ]
     },
     "execution_count": 3,
     "metadata": {},
     "output_type": "execute_result"
    }
   ],
   "source": [
    "#датасет с отзывами по англоязычным курсам\n",
    "reviews_eng_courses = pd.read_csv('reviews_eng_courses.csv')\n",
    "reviews_eng_courses.head()"
   ]
  },
  {
   "cell_type": "code",
   "execution_count": null,
   "metadata": {},
   "outputs": [],
   "source": []
  },
  {
   "cell_type": "markdown",
   "metadata": {},
   "source": [
    "Токенизация и очистка данных\n",
    "Сделаем токенизацию слов из отзывов"
   ]
  },
  {
   "cell_type": "code",
   "execution_count": null,
   "metadata": {},
   "outputs": [],
   "source": [
    "mystopwords = stopwords.words('english') + [\"i'm\", '-', \"i've\"]\n",
    "regex = re.compile(\"['A-Za-z\\-]+\")\n",
    "\n",
    "def tokenize(text, regex=regex, stopwords=mystopwords):\n",
    "    \"\"\" Tokenize all tokens from text string\n",
    "        Returns array of tokens\n",
    "    \"\"\"\n",
    "    try:\n",
    "        text = \" \".join(regex.findall(text)).lower()\n",
    "        tokens = ' '.join([token for token in text.split(' ') if not token in stopwords])\n",
    "        return tokens\n",
    "    except:\n",
    "        return []"
   ]
  },
  {
   "cell_type": "code",
   "execution_count": null,
   "metadata": {},
   "outputs": [],
   "source": [
    "reviews_eng_courses['text'] = reviews_eng_courses.review_text.apply(tokenize)"
   ]
  },
  {
   "cell_type": "code",
   "execution_count": null,
   "metadata": {},
   "outputs": [],
   "source": [
    "reviews_eng_courses.head()"
   ]
  },
  {
   "cell_type": "code",
   "execution_count": null,
   "metadata": {},
   "outputs": [],
   "source": [
    "### Определим частоту встречаемости слов в отзывах, построим облако слов для наглядности\n",
    "from collections import Counter\n",
    "\n",
    "lemmata = []\n",
    "for index, row in reviews_eng_courses.iterrows():\n",
    "    lemmata += row['text'].split()\n",
    "cnt = Counter(lemmata)\n",
    "\n",
    "for i in cnt.most_common(15):\n",
    "    print(i)"
   ]
  },
  {
   "cell_type": "code",
   "execution_count": null,
   "metadata": {},
   "outputs": [],
   "source": [
    "# Количество слов в словаре:\n",
    "print(len(cnt).format('')"
   ]
  },
  {
   "cell_type": "code",
   "execution_count": null,
   "metadata": {},
   "outputs": [],
   "source": [
    "from wordcloud import *\n",
    "word_freq = [i for i in cnt.most_common(100)]\n",
    "wd = WordCloud(background_color = 'white')\n",
    "wd.generate_from_frequencies(dict(word_freq))\n",
    "plt.figure()\n",
    "plt.imshow(wd, interpolation = 'bilinear')\n",
    "plt.axis('off')\n",
    "plt.show()"
   ]
  },
  {
   "cell_type": "code",
   "execution_count": null,
   "metadata": {},
   "outputs": [],
   "source": []
  },
  {
   "cell_type": "code",
   "execution_count": null,
   "metadata": {},
   "outputs": [],
   "source": []
  },
  {
   "cell_type": "code",
   "execution_count": null,
   "metadata": {},
   "outputs": [],
   "source": []
  },
  {
   "cell_type": "markdown",
   "metadata": {},
   "source": [
    "## Сформируем сбалансированный датасет c обучающей и тестовой выборкой\n",
    "Поскольку датасет несбалансирован, применим Undersampling подход"
   ]
  },
  {
   "cell_type": "code",
   "execution_count": null,
   "metadata": {},
   "outputs": [],
   "source": [
    "from imblearn.under_sampling import RandomUnderSampler\n",
    "randUS = RandomUnderSampler(random_state=0)\n",
    "\n",
    "X = reviews_eng_courses[['text']]\n",
    "y = reviews_eng_courses['rating']\n",
    "\n",
    "X_balanced, y_balanced = randUS.fit_resample(X, y)"
   ]
  },
  {
   "cell_type": "code",
   "execution_count": null,
   "metadata": {},
   "outputs": [],
   "source": [
    "balanced = pd.DataFrame.from_dict({'text': X_balanced[:,0], 'target': y_balanced}) \n",
    "balanced.head()"
   ]
  },
  {
   "cell_type": "code",
   "execution_count": null,
   "metadata": {},
   "outputs": [],
   "source": [
    "# разделим датасет обучающую и тестовую выборку\n",
    "train, test = train_test_split(balanced, test_size=0.2, random_state=42)"
   ]
  },
  {
   "cell_type": "code",
   "execution_count": null,
   "metadata": {},
   "outputs": [],
   "source": []
  },
  {
   "cell_type": "markdown",
   "metadata": {},
   "source": [
    "### Построим векторную модель с помощью Doc2Vec\n"
   ]
  },
  {
   "cell_type": "code",
   "execution_count": null,
   "metadata": {},
   "outputs": [],
   "source": [
    "import multiprocessing\n",
    "cores = multiprocessing.cpu_count()"
   ]
  },
  {
   "cell_type": "code",
   "execution_count": null,
   "metadata": {},
   "outputs": [],
   "source": [
    "train_tagged = train.apply(\n",
    "    lambda r: TaggedDocument(words=r['text'].split(' '), tags=[r.target]), axis=1)\n",
    "test_tagged = test.apply(\n",
    "    lambda r: TaggedDocument(words=r['text'].split(' '), tags=[r.target]), axis=1)"
   ]
  },
  {
   "cell_type": "code",
   "execution_count": null,
   "metadata": {},
   "outputs": [],
   "source": [
    "train_tagged.values[30]"
   ]
  },
  {
   "cell_type": "code",
   "execution_count": null,
   "metadata": {},
   "outputs": [],
   "source": [
    "model_dbow = Doc2Vec(dm=0, vector_size=2000, negative=5, hs=0, min_count=2, sample = 0, workers=cores)\n",
    "model_dbow.build_vocab([x for x in tqdm(train_tagged.values)])"
   ]
  },
  {
   "cell_type": "code",
   "execution_count": null,
   "metadata": {},
   "outputs": [],
   "source": [
    "# Обучаем модель\n",
    "for epoch in range(10):\n",
    "    model_dbow.train(utils.shuffle([x for x in tqdm(train_tagged.values)]), total_examples=len(train_tagged.values), epochs=1)\n",
    "    model_dbow.alpha -= 0.002\n",
    "    model_dbow.min_alpha = model_dbow.alpha"
   ]
  },
  {
   "cell_type": "code",
   "execution_count": null,
   "metadata": {},
   "outputs": [],
   "source": [
    "# Сформируем итоговый набор векторов для обучения\n",
    "def vec_for_learning(model, tagged_docs):\n",
    "    sents = tagged_docs.values\n",
    "    targets, regressors = zip(*[(doc.tags[0], model.infer_vector(doc.words, steps=20)) for doc in sents])\n",
    "    return targets, regressors"
   ]
  },
  {
   "cell_type": "code",
   "execution_count": null,
   "metadata": {},
   "outputs": [],
   "source": [
    "## Логистическая регрессия"
   ]
  },
  {
   "cell_type": "code",
   "execution_count": null,
   "metadata": {},
   "outputs": [],
   "source": [
    "y_train, X_train = vec_for_learning(model_dbow, train_tagged)\n",
    "y_test, X_test = vec_for_learning(model_dbow, test_tagged)"
   ]
  },
  {
   "cell_type": "code",
   "execution_count": null,
   "metadata": {},
   "outputs": [],
   "source": [
    "logreg = LogisticRegression(n_jobs=1, C=1e5)\n",
    "logreg.fit(X_train, y_train)\n",
    "y_pred = logreg.predict(X_test)"
   ]
  },
  {
   "cell_type": "code",
   "execution_count": null,
   "metadata": {},
   "outputs": [],
   "source": [
    "print('Testing accuracy %s' % accuracy_score(y_test, y_pred))\n",
    "print('Testing F1 score: {}'.format(f1_score(y_test, y_pred, average='weighted')))"
   ]
  },
  {
   "cell_type": "code",
   "execution_count": null,
   "metadata": {},
   "outputs": [],
   "source": []
  },
  {
   "cell_type": "code",
   "execution_count": null,
   "metadata": {},
   "outputs": [],
   "source": []
  }
 ],
 "metadata": {
  "kernelspec": {
   "display_name": "Python 3",
   "language": "python",
   "name": "python3"
  },
  "language_info": {
   "codemirror_mode": {
    "name": "ipython",
    "version": 3
   },
   "file_extension": ".py",
   "mimetype": "text/x-python",
   "name": "python",
   "nbconvert_exporter": "python",
   "pygments_lexer": "ipython3",
   "version": "3.6.8"
  }
 },
 "nbformat": 4,
 "nbformat_minor": 2
}
