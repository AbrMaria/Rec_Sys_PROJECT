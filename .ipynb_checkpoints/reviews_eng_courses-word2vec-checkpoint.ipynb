{
 "cells": [
  {
   "cell_type": "markdown",
   "metadata": {},
   "source": [
    "# word2vec"
   ]
  },
  {
   "cell_type": "markdown",
   "metadata": {},
   "source": [
    "## Импорт библиотек"
   ]
  },
  {
   "cell_type": "code",
   "execution_count": 35,
   "metadata": {},
   "outputs": [],
   "source": [
    "import warnings\n",
    "warnings.filterwarnings('ignore')\n",
    "import matplotlib.pyplot as plt\n",
    "\n",
    "import pandas as pd\n",
    "import numpy as np\n",
    "import re\n",
    "\n",
    "from tqdm import tqdm\n",
    "tqdm.pandas(desc=\"progress-bar\")\n",
    "\n",
    "import gensim\n",
    "from gensim.models import Doc2Vec\n",
    "from gensim.models.doc2vec import TaggedDocument\n",
    "\n",
    "from sklearn import utils\n",
    "from sklearn.model_selection import train_test_split\n",
    "from sklearn.linear_model import LogisticRegression\n",
    "\n",
    "# Scoring\n",
    "from sklearn.metrics import accuracy_score, f1_score\n",
    "\n",
    "import seaborn as sns\n",
    "\n",
    "import multiprocessing\n",
    "\n",
    "\n",
    "from nltk.corpus import stopwords\n",
    "from nltk.stem.snowball import EnglishStemmer\n",
    "\n",
    "%matplotlib inline"
   ]
  },
  {
   "cell_type": "markdown",
   "metadata": {},
   "source": [
    "## Загрузка данных"
   ]
  },
  {
   "cell_type": "code",
   "execution_count": 66,
   "metadata": {},
   "outputs": [
    {
     "data": {
      "text/html": [
       "<div>\n",
       "<style scoped>\n",
       "    .dataframe tbody tr th:only-of-type {\n",
       "        vertical-align: middle;\n",
       "    }\n",
       "\n",
       "    .dataframe tbody tr th {\n",
       "        vertical-align: top;\n",
       "    }\n",
       "\n",
       "    .dataframe thead th {\n",
       "        text-align: right;\n",
       "    }\n",
       "</style>\n",
       "<table border=\"1\" class=\"dataframe\">\n",
       "  <thead>\n",
       "    <tr style=\"text-align: right;\">\n",
       "      <th></th>\n",
       "      <th>url</th>\n",
       "      <th>course_id</th>\n",
       "      <th>reviewer_name</th>\n",
       "      <th>rating</th>\n",
       "      <th>review_text</th>\n",
       "    </tr>\n",
       "  </thead>\n",
       "  <tbody>\n",
       "    <tr>\n",
       "      <th>0</th>\n",
       "      <td>https://www.coursera.org/learn/2-speed-it/revi...</td>\n",
       "      <td>2-speed-it</td>\n",
       "      <td>Ravish</td>\n",
       "      <td>5</td>\n",
       "      <td>Very relevant and useful course designed for CIOs</td>\n",
       "    </tr>\n",
       "    <tr>\n",
       "      <th>1</th>\n",
       "      <td>https://www.coursera.org/learn/2-speed-it/revi...</td>\n",
       "      <td>2-speed-it</td>\n",
       "      <td>Etienne R</td>\n",
       "      <td>2</td>\n",
       "      <td>This course does not say anything about digiti...</td>\n",
       "    </tr>\n",
       "    <tr>\n",
       "      <th>2</th>\n",
       "      <td>https://www.coursera.org/learn/2-speed-it/revi...</td>\n",
       "      <td>2-speed-it</td>\n",
       "      <td>Viswas P</td>\n",
       "      <td>4</td>\n",
       "      <td>Videos that are presented in French could've b...</td>\n",
       "    </tr>\n",
       "    <tr>\n",
       "      <th>3</th>\n",
       "      <td>https://www.coursera.org/learn/2-speed-it/revi...</td>\n",
       "      <td>2-speed-it</td>\n",
       "      <td>AN L</td>\n",
       "      <td>3</td>\n",
       "      <td>The course content is quite good, though it co...</td>\n",
       "    </tr>\n",
       "    <tr>\n",
       "      <th>4</th>\n",
       "      <td>https://www.coursera.org/learn/2-speed-it/revi...</td>\n",
       "      <td>2-speed-it</td>\n",
       "      <td>Konstantin A</td>\n",
       "      <td>5</td>\n",
       "      <td>Great piece of work, I especially liked a few ...</td>\n",
       "    </tr>\n",
       "  </tbody>\n",
       "</table>\n",
       "</div>"
      ],
      "text/plain": [
       "                                                 url   course_id  \\\n",
       "0  https://www.coursera.org/learn/2-speed-it/revi...  2-speed-it   \n",
       "1  https://www.coursera.org/learn/2-speed-it/revi...  2-speed-it   \n",
       "2  https://www.coursera.org/learn/2-speed-it/revi...  2-speed-it   \n",
       "3  https://www.coursera.org/learn/2-speed-it/revi...  2-speed-it   \n",
       "4  https://www.coursera.org/learn/2-speed-it/revi...  2-speed-it   \n",
       "\n",
       "   reviewer_name  rating                                        review_text  \n",
       "0         Ravish       5  Very relevant and useful course designed for CIOs  \n",
       "1      Etienne R       2  This course does not say anything about digiti...  \n",
       "2       Viswas P       4  Videos that are presented in French could've b...  \n",
       "3           AN L       3  The course content is quite good, though it co...  \n",
       "4  Konstantin A        5  Great piece of work, I especially liked a few ...  "
      ]
     },
     "execution_count": 66,
     "metadata": {},
     "output_type": "execute_result"
    }
   ],
   "source": [
    "#датасет с отзывами по англоязычным курсам\n",
    "reviews_eng_courses = pd.read_csv('reviews_eng_courses.csv')\n",
    "reviews_eng_courses.head()"
   ]
  },
  {
   "cell_type": "code",
   "execution_count": 67,
   "metadata": {},
   "outputs": [
    {
     "name": "stdout",
     "output_type": "stream",
     "text": [
      "<class 'pandas.core.frame.DataFrame'>\n",
      "RangeIndex: 160092 entries, 0 to 160091\n",
      "Data columns (total 5 columns):\n",
      "url              160092 non-null object\n",
      "course_id        160092 non-null object\n",
      "reviewer_name    159841 non-null object\n",
      "rating           160092 non-null int64\n",
      "review_text      160085 non-null object\n",
      "dtypes: int64(1), object(4)\n",
      "memory usage: 6.1+ MB\n"
     ]
    }
   ],
   "source": [
    "reviews_eng_courses.info()"
   ]
  },
  {
   "cell_type": "code",
   "execution_count": 70,
   "metadata": {
    "scrolled": true
   },
   "outputs": [
    {
     "name": "stdout",
     "output_type": "stream",
     "text": [
      "<class 'pandas.core.frame.DataFrame'>\n",
      "RangeIndex: 160092 entries, 0 to 160091\n",
      "Data columns (total 5 columns):\n",
      "url              160092 non-null object\n",
      "course_id        160092 non-null object\n",
      "reviewer_name    160092 non-null object\n",
      "rating           160092 non-null int64\n",
      "review_text      160092 non-null object\n",
      "dtypes: int64(1), object(4)\n",
      "memory usage: 6.1+ MB\n"
     ]
    }
   ],
   "source": [
    "#пропущенное имя пользователя делает отзыв бесполезным для наших целей\n",
    "reviews_eng_courses['reviewer_name'] = reviews_eng_courses.reviewer_name.fillna(value = 'NaN')\n",
    "#заполним пропущенные значения\n",
    "reviews_eng_courses['review_text'] = reviews_eng_courses.review_text.fillna(value = 'NaN')\n",
    "#reviews_eng_courses.dropna() \n",
    "reviews_eng_courses.info()"
   ]
  },
  {
   "cell_type": "code",
   "execution_count": 71,
   "metadata": {
    "scrolled": true
   },
   "outputs": [
    {
     "data": {
      "text/plain": [
       "Deleted A         588\n",
       "NaN               251\n",
       "JOHN Q            139\n",
       "Jonathan G        126\n",
       "Joy S             101\n",
       "Richard H          66\n",
       "Muhammad A         65\n",
       "Michael B          61\n",
       "Daniel C           60\n",
       "David H            58\n",
       "David M            58\n",
       "Do H L             57\n",
       "Michael S          56\n",
       "Michael M          56\n",
       "Daniel S           56\n",
       "David B            54\n",
       "David S            54\n",
       "Bart S             50\n",
       "David D            50\n",
       "James M            47\n",
       "Jose A R N         47\n",
       "Jason M            46\n",
       "James S            46\n",
       "Bernard D V        45\n",
       "Daniel M           45\n",
       "John C             44\n",
       "John P             44\n",
       "Ana R P            44\n",
       "David C            44\n",
       "Lorena P           42\n",
       "                 ... \n",
       "Sammy               1\n",
       "Vasavi A            1\n",
       "Nikolaos V          1\n",
       "Cátia G             1\n",
       "Grigory V           1\n",
       "Sunit               1\n",
       "Nelson d J M C      1\n",
       "刘晓玉                 1\n",
       "Ahmed j             1\n",
       "Neha D              1\n",
       "Eduardo R P M       1\n",
       "Cai S X             1\n",
       "Vera T              1\n",
       "Carine v d B        1\n",
       "Toby B              1\n",
       "Shilpa P            1\n",
       "Jerome S P          1\n",
       "Karlee S            1\n",
       "Saksham N           1\n",
       "Erin B              1\n",
       "Shweta M            1\n",
       "Raid M              1\n",
       "Kosol N             1\n",
       "Truong H M C        1\n",
       "Yevgeny E           1\n",
       "ayush p             1\n",
       "Jonathan M C O      1\n",
       "Hrishikesh P D      1\n",
       "Vivin R             1\n",
       "Bernice B           1\n",
       "Name: reviewer_name, Length: 89701, dtype: int64"
      ]
     },
     "execution_count": 71,
     "metadata": {},
     "output_type": "execute_result"
    }
   ],
   "source": [
    "#проверим уникальность пользователей, заодно посмотрим по сколько отзывов оставил каждый пользователь\n",
    "reviews_eng_courses[\"reviewer_name\"].value_counts()"
   ]
  },
  {
   "cell_type": "code",
   "execution_count": null,
   "metadata": {},
   "outputs": [],
   "source": [
    "#Deleted A - это явно не уникальное имя пользователя - надо от него избавиться"
   ]
  },
  {
   "cell_type": "code",
   "execution_count": 72,
   "metadata": {},
   "outputs": [],
   "source": [
    "#выберем строки (отзывы), чье значение столбца 'reviewer_name' не равно 'NaN' и 'Deleted A'\n",
    "reviews_eng_courses = reviews_eng_courses.loc[(reviews_eng_courses['reviewer_name'] != 'NaN') & (reviews_eng_courses['reviewer_name'] != 'Deleted A')]"
   ]
  },
  {
   "cell_type": "code",
   "execution_count": 73,
   "metadata": {},
   "outputs": [
    {
     "name": "stdout",
     "output_type": "stream",
     "text": [
      "<class 'pandas.core.frame.DataFrame'>\n",
      "Int64Index: 159253 entries, 0 to 160091\n",
      "Data columns (total 5 columns):\n",
      "url              159253 non-null object\n",
      "course_id        159253 non-null object\n",
      "reviewer_name    159253 non-null object\n",
      "rating           159253 non-null int64\n",
      "review_text      159253 non-null object\n",
      "dtypes: int64(1), object(4)\n",
      "memory usage: 7.3+ MB\n"
     ]
    }
   ],
   "source": [
    "reviews_eng_courses.info()"
   ]
  },
  {
   "cell_type": "code",
   "execution_count": 74,
   "metadata": {},
   "outputs": [],
   "source": [
    "#избавимся от лишних столбцов\n",
    "reviews_eng_courses=reviews_eng_courses.drop(['url'], axis=1)"
   ]
  },
  {
   "cell_type": "code",
   "execution_count": 75,
   "metadata": {},
   "outputs": [
    {
     "data": {
      "text/html": [
       "<div>\n",
       "<style scoped>\n",
       "    .dataframe tbody tr th:only-of-type {\n",
       "        vertical-align: middle;\n",
       "    }\n",
       "\n",
       "    .dataframe tbody tr th {\n",
       "        vertical-align: top;\n",
       "    }\n",
       "\n",
       "    .dataframe thead th {\n",
       "        text-align: right;\n",
       "    }\n",
       "</style>\n",
       "<table border=\"1\" class=\"dataframe\">\n",
       "  <thead>\n",
       "    <tr style=\"text-align: right;\">\n",
       "      <th></th>\n",
       "      <th>course_id</th>\n",
       "      <th>reviewer_name</th>\n",
       "      <th>rating</th>\n",
       "      <th>review_text</th>\n",
       "    </tr>\n",
       "  </thead>\n",
       "  <tbody>\n",
       "    <tr>\n",
       "      <th>0</th>\n",
       "      <td>2-speed-it</td>\n",
       "      <td>Ravish</td>\n",
       "      <td>5</td>\n",
       "      <td>Very relevant and useful course designed for CIOs</td>\n",
       "    </tr>\n",
       "    <tr>\n",
       "      <th>1</th>\n",
       "      <td>2-speed-it</td>\n",
       "      <td>Etienne R</td>\n",
       "      <td>2</td>\n",
       "      <td>This course does not say anything about digiti...</td>\n",
       "    </tr>\n",
       "    <tr>\n",
       "      <th>2</th>\n",
       "      <td>2-speed-it</td>\n",
       "      <td>Viswas P</td>\n",
       "      <td>4</td>\n",
       "      <td>Videos that are presented in French could've b...</td>\n",
       "    </tr>\n",
       "  </tbody>\n",
       "</table>\n",
       "</div>"
      ],
      "text/plain": [
       "    course_id reviewer_name  rating  \\\n",
       "0  2-speed-it        Ravish       5   \n",
       "1  2-speed-it     Etienne R       2   \n",
       "2  2-speed-it      Viswas P       4   \n",
       "\n",
       "                                         review_text  \n",
       "0  Very relevant and useful course designed for CIOs  \n",
       "1  This course does not say anything about digiti...  \n",
       "2  Videos that are presented in French could've b...  "
      ]
     },
     "execution_count": 75,
     "metadata": {},
     "output_type": "execute_result"
    }
   ],
   "source": [
    "#очищенный датасет\n",
    "reviews_eng_courses.head(3)"
   ]
  },
  {
   "cell_type": "code",
   "execution_count": null,
   "metadata": {},
   "outputs": [],
   "source": []
  },
  {
   "cell_type": "code",
   "execution_count": 77,
   "metadata": {},
   "outputs": [
    {
     "data": {
      "text/html": [
       "<div>\n",
       "<style scoped>\n",
       "    .dataframe tbody tr th:only-of-type {\n",
       "        vertical-align: middle;\n",
       "    }\n",
       "\n",
       "    .dataframe tbody tr th {\n",
       "        vertical-align: top;\n",
       "    }\n",
       "\n",
       "    .dataframe thead th {\n",
       "        text-align: right;\n",
       "    }\n",
       "</style>\n",
       "<table border=\"1\" class=\"dataframe\">\n",
       "  <thead>\n",
       "    <tr style=\"text-align: right;\">\n",
       "      <th></th>\n",
       "      <th>Unnamed: 0</th>\n",
       "      <th>Unnamed: 0.1</th>\n",
       "      <th>course_id</th>\n",
       "      <th>title</th>\n",
       "      <th>topics</th>\n",
       "      <th>about</th>\n",
       "      <th>instructors</th>\n",
       "      <th>language</th>\n",
       "      <th>metrics</th>\n",
       "      <th>product_glance</th>\n",
       "      <th>average_score</th>\n",
       "      <th>ratings_count</th>\n",
       "      <th>reviews_count</th>\n",
       "      <th>skills</th>\n",
       "      <th>syllabus</th>\n",
       "      <th>recommendations</th>\n",
       "      <th>url</th>\n",
       "    </tr>\n",
       "  </thead>\n",
       "  <tbody>\n",
       "    <tr>\n",
       "      <th>0</th>\n",
       "      <td>0</td>\n",
       "      <td>0</td>\n",
       "      <td>2-speed-it</td>\n",
       "      <td>Two Speed IT: How Companies Can Surf the Digit...</td>\n",
       "      <td>['Business', 'Business Essentials']</td>\n",
       "      <td>Transform or disappear, the Darwinism of IT: I...</td>\n",
       "      <td>['Antoine Gourévitch', 'Vanessa Lyon', 'Eric B...</td>\n",
       "      <td>English</td>\n",
       "      <td>['16,728 already enrolled!', '5,149 recent vie...</td>\n",
       "      <td>['100% online', 'Flexible deadlines', 'Approx....</td>\n",
       "      <td>4.4</td>\n",
       "      <td>33</td>\n",
       "      <td>33</td>\n",
       "      <td>[]</td>\n",
       "      <td>['Introduction', 'IT and the CIO in the Digita...</td>\n",
       "      <td>['fundamentals-of-management', 'entrepreneuria...</td>\n",
       "      <td>https://www.coursera.org/learn/2-speed-it</td>\n",
       "    </tr>\n",
       "    <tr>\n",
       "      <th>1</th>\n",
       "      <td>5</td>\n",
       "      <td>5</td>\n",
       "      <td>3d-printing-applications</td>\n",
       "      <td>3D Printing Applications</td>\n",
       "      <td>['Business', 'Entrepreneurship']</td>\n",
       "      <td>This course will help you understand how 3D pr...</td>\n",
       "      <td>['Vishal Sachdev']</td>\n",
       "      <td>English</td>\n",
       "      <td>['11,308 already enrolled!', '8,209 recent vie...</td>\n",
       "      <td>['100% online', 'Flexible deadlines', 'Beginne...</td>\n",
       "      <td>4.5</td>\n",
       "      <td>92</td>\n",
       "      <td>92</td>\n",
       "      <td>[]</td>\n",
       "      <td>['Course Orientation', 'Module 1: 3D Printing ...</td>\n",
       "      <td>['mechanics2', 'beam-bending']</td>\n",
       "      <td>https://www.coursera.org/learn/3d-printing-app...</td>\n",
       "    </tr>\n",
       "  </tbody>\n",
       "</table>\n",
       "</div>"
      ],
      "text/plain": [
       "   Unnamed: 0  Unnamed: 0.1                 course_id  \\\n",
       "0           0             0                2-speed-it   \n",
       "1           5             5  3d-printing-applications   \n",
       "\n",
       "                                               title  \\\n",
       "0  Two Speed IT: How Companies Can Surf the Digit...   \n",
       "1                           3D Printing Applications   \n",
       "\n",
       "                                topics  \\\n",
       "0  ['Business', 'Business Essentials']   \n",
       "1     ['Business', 'Entrepreneurship']   \n",
       "\n",
       "                                               about  \\\n",
       "0  Transform or disappear, the Darwinism of IT: I...   \n",
       "1  This course will help you understand how 3D pr...   \n",
       "\n",
       "                                         instructors language  \\\n",
       "0  ['Antoine Gourévitch', 'Vanessa Lyon', 'Eric B...  English   \n",
       "1                                 ['Vishal Sachdev']  English   \n",
       "\n",
       "                                             metrics  \\\n",
       "0  ['16,728 already enrolled!', '5,149 recent vie...   \n",
       "1  ['11,308 already enrolled!', '8,209 recent vie...   \n",
       "\n",
       "                                      product_glance  average_score  \\\n",
       "0  ['100% online', 'Flexible deadlines', 'Approx....            4.4   \n",
       "1  ['100% online', 'Flexible deadlines', 'Beginne...            4.5   \n",
       "\n",
       "   ratings_count  reviews_count skills  \\\n",
       "0             33             33     []   \n",
       "1             92             92     []   \n",
       "\n",
       "                                            syllabus  \\\n",
       "0  ['Introduction', 'IT and the CIO in the Digita...   \n",
       "1  ['Course Orientation', 'Module 1: 3D Printing ...   \n",
       "\n",
       "                                     recommendations  \\\n",
       "0  ['fundamentals-of-management', 'entrepreneuria...   \n",
       "1                     ['mechanics2', 'beam-bending']   \n",
       "\n",
       "                                                 url  \n",
       "0          https://www.coursera.org/learn/2-speed-it  \n",
       "1  https://www.coursera.org/learn/3d-printing-app...  "
      ]
     },
     "execution_count": 77,
     "metadata": {},
     "output_type": "execute_result"
    }
   ],
   "source": [
    "#датасет с описанием англоязычных курсов\n",
    "courses_eng = pd.read_csv('courses_eng.csv')\n",
    "courses_eng.head(2)"
   ]
  },
  {
   "cell_type": "code",
   "execution_count": 78,
   "metadata": {},
   "outputs": [],
   "source": [
    "#избавимся от лишних столбцов\n",
    "courses_eng=courses_eng.drop(['Unnamed: 0'], axis=1)\n",
    "courses_eng=courses_eng.drop(['Unnamed: 0.1'], axis=1)"
   ]
  },
  {
   "cell_type": "code",
   "execution_count": 79,
   "metadata": {},
   "outputs": [
    {
     "data": {
      "text/html": [
       "<div>\n",
       "<style scoped>\n",
       "    .dataframe tbody tr th:only-of-type {\n",
       "        vertical-align: middle;\n",
       "    }\n",
       "\n",
       "    .dataframe tbody tr th {\n",
       "        vertical-align: top;\n",
       "    }\n",
       "\n",
       "    .dataframe thead th {\n",
       "        text-align: right;\n",
       "    }\n",
       "</style>\n",
       "<table border=\"1\" class=\"dataframe\">\n",
       "  <thead>\n",
       "    <tr style=\"text-align: right;\">\n",
       "      <th></th>\n",
       "      <th>course_id</th>\n",
       "      <th>title</th>\n",
       "      <th>topics</th>\n",
       "      <th>about</th>\n",
       "      <th>instructors</th>\n",
       "      <th>language</th>\n",
       "      <th>metrics</th>\n",
       "      <th>product_glance</th>\n",
       "      <th>average_score</th>\n",
       "      <th>ratings_count</th>\n",
       "      <th>reviews_count</th>\n",
       "      <th>skills</th>\n",
       "      <th>syllabus</th>\n",
       "      <th>recommendations</th>\n",
       "      <th>url</th>\n",
       "    </tr>\n",
       "  </thead>\n",
       "  <tbody>\n",
       "    <tr>\n",
       "      <th>0</th>\n",
       "      <td>2-speed-it</td>\n",
       "      <td>Two Speed IT: How Companies Can Surf the Digit...</td>\n",
       "      <td>['Business', 'Business Essentials']</td>\n",
       "      <td>Transform or disappear, the Darwinism of IT: I...</td>\n",
       "      <td>['Antoine Gourévitch', 'Vanessa Lyon', 'Eric B...</td>\n",
       "      <td>English</td>\n",
       "      <td>['16,728 already enrolled!', '5,149 recent vie...</td>\n",
       "      <td>['100% online', 'Flexible deadlines', 'Approx....</td>\n",
       "      <td>4.4</td>\n",
       "      <td>33</td>\n",
       "      <td>33</td>\n",
       "      <td>[]</td>\n",
       "      <td>['Introduction', 'IT and the CIO in the Digita...</td>\n",
       "      <td>['fundamentals-of-management', 'entrepreneuria...</td>\n",
       "      <td>https://www.coursera.org/learn/2-speed-it</td>\n",
       "    </tr>\n",
       "    <tr>\n",
       "      <th>1</th>\n",
       "      <td>3d-printing-applications</td>\n",
       "      <td>3D Printing Applications</td>\n",
       "      <td>['Business', 'Entrepreneurship']</td>\n",
       "      <td>This course will help you understand how 3D pr...</td>\n",
       "      <td>['Vishal Sachdev']</td>\n",
       "      <td>English</td>\n",
       "      <td>['11,308 already enrolled!', '8,209 recent vie...</td>\n",
       "      <td>['100% online', 'Flexible deadlines', 'Beginne...</td>\n",
       "      <td>4.5</td>\n",
       "      <td>92</td>\n",
       "      <td>92</td>\n",
       "      <td>[]</td>\n",
       "      <td>['Course Orientation', 'Module 1: 3D Printing ...</td>\n",
       "      <td>['mechanics2', 'beam-bending']</td>\n",
       "      <td>https://www.coursera.org/learn/3d-printing-app...</td>\n",
       "    </tr>\n",
       "  </tbody>\n",
       "</table>\n",
       "</div>"
      ],
      "text/plain": [
       "                  course_id  \\\n",
       "0                2-speed-it   \n",
       "1  3d-printing-applications   \n",
       "\n",
       "                                               title  \\\n",
       "0  Two Speed IT: How Companies Can Surf the Digit...   \n",
       "1                           3D Printing Applications   \n",
       "\n",
       "                                topics  \\\n",
       "0  ['Business', 'Business Essentials']   \n",
       "1     ['Business', 'Entrepreneurship']   \n",
       "\n",
       "                                               about  \\\n",
       "0  Transform or disappear, the Darwinism of IT: I...   \n",
       "1  This course will help you understand how 3D pr...   \n",
       "\n",
       "                                         instructors language  \\\n",
       "0  ['Antoine Gourévitch', 'Vanessa Lyon', 'Eric B...  English   \n",
       "1                                 ['Vishal Sachdev']  English   \n",
       "\n",
       "                                             metrics  \\\n",
       "0  ['16,728 already enrolled!', '5,149 recent vie...   \n",
       "1  ['11,308 already enrolled!', '8,209 recent vie...   \n",
       "\n",
       "                                      product_glance  average_score  \\\n",
       "0  ['100% online', 'Flexible deadlines', 'Approx....            4.4   \n",
       "1  ['100% online', 'Flexible deadlines', 'Beginne...            4.5   \n",
       "\n",
       "   ratings_count  reviews_count skills  \\\n",
       "0             33             33     []   \n",
       "1             92             92     []   \n",
       "\n",
       "                                            syllabus  \\\n",
       "0  ['Introduction', 'IT and the CIO in the Digita...   \n",
       "1  ['Course Orientation', 'Module 1: 3D Printing ...   \n",
       "\n",
       "                                     recommendations  \\\n",
       "0  ['fundamentals-of-management', 'entrepreneuria...   \n",
       "1                     ['mechanics2', 'beam-bending']   \n",
       "\n",
       "                                                 url  \n",
       "0          https://www.coursera.org/learn/2-speed-it  \n",
       "1  https://www.coursera.org/learn/3d-printing-app...  "
      ]
     },
     "execution_count": 79,
     "metadata": {},
     "output_type": "execute_result"
    }
   ],
   "source": [
    "courses_eng.head(2)"
   ]
  },
  {
   "cell_type": "code",
   "execution_count": 80,
   "metadata": {},
   "outputs": [
    {
     "name": "stdout",
     "output_type": "stream",
     "text": [
      "<class 'pandas.core.frame.DataFrame'>\n",
      "RangeIndex: 1299 entries, 0 to 1298\n",
      "Data columns (total 15 columns):\n",
      "course_id          1299 non-null object\n",
      "title              1299 non-null object\n",
      "topics             1299 non-null object\n",
      "about              1299 non-null object\n",
      "instructors        1299 non-null object\n",
      "language           1299 non-null object\n",
      "metrics            1299 non-null object\n",
      "product_glance     1299 non-null object\n",
      "average_score      1299 non-null float64\n",
      "ratings_count      1299 non-null int64\n",
      "reviews_count      1299 non-null int64\n",
      "skills             1299 non-null object\n",
      "syllabus           1299 non-null object\n",
      "recommendations    1299 non-null object\n",
      "url                1299 non-null object\n",
      "dtypes: float64(1), int64(2), object(12)\n",
      "memory usage: 152.3+ KB\n"
     ]
    }
   ],
   "source": [
    "courses_eng.info()"
   ]
  },
  {
   "cell_type": "code",
   "execution_count": 81,
   "metadata": {},
   "outputs": [
    {
     "data": {
      "text/html": [
       "<div>\n",
       "<style scoped>\n",
       "    .dataframe tbody tr th:only-of-type {\n",
       "        vertical-align: middle;\n",
       "    }\n",
       "\n",
       "    .dataframe tbody tr th {\n",
       "        vertical-align: top;\n",
       "    }\n",
       "\n",
       "    .dataframe thead th {\n",
       "        text-align: right;\n",
       "    }\n",
       "</style>\n",
       "<table border=\"1\" class=\"dataframe\">\n",
       "  <thead>\n",
       "    <tr style=\"text-align: right;\">\n",
       "      <th></th>\n",
       "      <th>course_id</th>\n",
       "      <th>reviewer_name</th>\n",
       "      <th>rating</th>\n",
       "      <th>review_text</th>\n",
       "      <th>title</th>\n",
       "      <th>topics</th>\n",
       "      <th>about</th>\n",
       "      <th>instructors</th>\n",
       "      <th>language</th>\n",
       "      <th>metrics</th>\n",
       "      <th>product_glance</th>\n",
       "      <th>average_score</th>\n",
       "      <th>ratings_count</th>\n",
       "      <th>reviews_count</th>\n",
       "      <th>skills</th>\n",
       "      <th>syllabus</th>\n",
       "      <th>recommendations</th>\n",
       "      <th>url</th>\n",
       "    </tr>\n",
       "  </thead>\n",
       "  <tbody>\n",
       "    <tr>\n",
       "      <th>0</th>\n",
       "      <td>2-speed-it</td>\n",
       "      <td>Ravish</td>\n",
       "      <td>5</td>\n",
       "      <td>Very relevant and useful course designed for CIOs</td>\n",
       "      <td>Two Speed IT: How Companies Can Surf the Digit...</td>\n",
       "      <td>['Business', 'Business Essentials']</td>\n",
       "      <td>Transform or disappear, the Darwinism of IT: I...</td>\n",
       "      <td>['Antoine Gourévitch', 'Vanessa Lyon', 'Eric B...</td>\n",
       "      <td>English</td>\n",
       "      <td>['16,728 already enrolled!', '5,149 recent vie...</td>\n",
       "      <td>['100% online', 'Flexible deadlines', 'Approx....</td>\n",
       "      <td>4.4</td>\n",
       "      <td>33</td>\n",
       "      <td>33</td>\n",
       "      <td>[]</td>\n",
       "      <td>['Introduction', 'IT and the CIO in the Digita...</td>\n",
       "      <td>['fundamentals-of-management', 'entrepreneuria...</td>\n",
       "      <td>https://www.coursera.org/learn/2-speed-it</td>\n",
       "    </tr>\n",
       "    <tr>\n",
       "      <th>1</th>\n",
       "      <td>2-speed-it</td>\n",
       "      <td>Etienne R</td>\n",
       "      <td>2</td>\n",
       "      <td>This course does not say anything about digiti...</td>\n",
       "      <td>Two Speed IT: How Companies Can Surf the Digit...</td>\n",
       "      <td>['Business', 'Business Essentials']</td>\n",
       "      <td>Transform or disappear, the Darwinism of IT: I...</td>\n",
       "      <td>['Antoine Gourévitch', 'Vanessa Lyon', 'Eric B...</td>\n",
       "      <td>English</td>\n",
       "      <td>['16,728 already enrolled!', '5,149 recent vie...</td>\n",
       "      <td>['100% online', 'Flexible deadlines', 'Approx....</td>\n",
       "      <td>4.4</td>\n",
       "      <td>33</td>\n",
       "      <td>33</td>\n",
       "      <td>[]</td>\n",
       "      <td>['Introduction', 'IT and the CIO in the Digita...</td>\n",
       "      <td>['fundamentals-of-management', 'entrepreneuria...</td>\n",
       "      <td>https://www.coursera.org/learn/2-speed-it</td>\n",
       "    </tr>\n",
       "  </tbody>\n",
       "</table>\n",
       "</div>"
      ],
      "text/plain": [
       "    course_id reviewer_name  rating  \\\n",
       "0  2-speed-it        Ravish       5   \n",
       "1  2-speed-it     Etienne R       2   \n",
       "\n",
       "                                         review_text  \\\n",
       "0  Very relevant and useful course designed for CIOs   \n",
       "1  This course does not say anything about digiti...   \n",
       "\n",
       "                                               title  \\\n",
       "0  Two Speed IT: How Companies Can Surf the Digit...   \n",
       "1  Two Speed IT: How Companies Can Surf the Digit...   \n",
       "\n",
       "                                topics  \\\n",
       "0  ['Business', 'Business Essentials']   \n",
       "1  ['Business', 'Business Essentials']   \n",
       "\n",
       "                                               about  \\\n",
       "0  Transform or disappear, the Darwinism of IT: I...   \n",
       "1  Transform or disappear, the Darwinism of IT: I...   \n",
       "\n",
       "                                         instructors language  \\\n",
       "0  ['Antoine Gourévitch', 'Vanessa Lyon', 'Eric B...  English   \n",
       "1  ['Antoine Gourévitch', 'Vanessa Lyon', 'Eric B...  English   \n",
       "\n",
       "                                             metrics  \\\n",
       "0  ['16,728 already enrolled!', '5,149 recent vie...   \n",
       "1  ['16,728 already enrolled!', '5,149 recent vie...   \n",
       "\n",
       "                                      product_glance  average_score  \\\n",
       "0  ['100% online', 'Flexible deadlines', 'Approx....            4.4   \n",
       "1  ['100% online', 'Flexible deadlines', 'Approx....            4.4   \n",
       "\n",
       "   ratings_count  reviews_count skills  \\\n",
       "0             33             33     []   \n",
       "1             33             33     []   \n",
       "\n",
       "                                            syllabus  \\\n",
       "0  ['Introduction', 'IT and the CIO in the Digita...   \n",
       "1  ['Introduction', 'IT and the CIO in the Digita...   \n",
       "\n",
       "                                     recommendations  \\\n",
       "0  ['fundamentals-of-management', 'entrepreneuria...   \n",
       "1  ['fundamentals-of-management', 'entrepreneuria...   \n",
       "\n",
       "                                         url  \n",
       "0  https://www.coursera.org/learn/2-speed-it  \n",
       "1  https://www.coursera.org/learn/2-speed-it  "
      ]
     },
     "execution_count": 81,
     "metadata": {},
     "output_type": "execute_result"
    }
   ],
   "source": [
    "#объединим датафрейм описания англоязычных курсов с отзывами пользователей \n",
    "joined_users_reviews = reviews_eng_courses.join(courses_eng.set_index('course_id'), on='course_id')\n",
    "joined_users_reviews.head(2)"
   ]
  },
  {
   "cell_type": "code",
   "execution_count": 85,
   "metadata": {},
   "outputs": [
    {
     "data": {
      "text/plain": [
       "array(['Ravish', 'Etienne R', 'Viswas P', ..., 'Jorge R N V',\n",
       "       'Ricardo d M V', 'Gabriel S C'], dtype=object)"
      ]
     },
     "execution_count": 85,
     "metadata": {},
     "output_type": "execute_result"
    }
   ],
   "source": [
    "unique_reviewers = joined_users_reviews.reviewer_name.unique()\n",
    "unique_reviewers"
   ]
  },
  {
   "cell_type": "code",
   "execution_count": 91,
   "metadata": {},
   "outputs": [],
   "source": [
    "joined_users_reviews['course_id'] = joined_users_reviews['course_id'].astype(str)\n",
    "joined_users_reviews['reviewer_name'] = joined_users_reviews['reviewer_name'].astype(str)\n",
    "joined_users_reviews['review_text'] = joined_users_reviews['review_text'].astype(str)\n",
    "joined_users_reviews['title'] = joined_users_reviews['title'].astype(str)\n",
    "joined_users_reviews['topics'] = joined_users_reviews['topics'].astype(str)\n",
    "joined_users_reviews['about'] = joined_users_reviews['about'].astype(str)\n",
    "joined_users_reviews['instructors'] = joined_users_reviews['instructors'].astype(str)\n",
    "joined_users_reviews['language'] = joined_users_reviews['language'].astype(str)\n",
    "joined_users_reviews['metrics'] = joined_users_reviews['metrics'].astype(str)\n",
    "joined_users_reviews['product_glance'] = joined_users_reviews['product_glance'].astype(str)\n",
    "joined_users_reviews['skills'] = joined_users_reviews['skills'].astype(str)\n",
    "joined_users_reviews['syllabus'] = joined_users_reviews['syllabus'].astype(str)\n",
    "joined_users_reviews['recommendations'] = joined_users_reviews['recommendations'].astype(str)\n",
    "joined_users_reviews['url'] = joined_users_reviews['url'].astype(str)"
   ]
  },
  {
   "cell_type": "code",
   "execution_count": null,
   "metadata": {},
   "outputs": [],
   "source": []
  },
  {
   "cell_type": "code",
   "execution_count": null,
   "metadata": {},
   "outputs": [],
   "source": []
  },
  {
   "cell_type": "code",
   "execution_count": 92,
   "metadata": {},
   "outputs": [],
   "source": [
    "#подготовленный датасет\n",
    "data = joined_users_reviews"
   ]
  },
  {
   "cell_type": "code",
   "execution_count": 93,
   "metadata": {},
   "outputs": [
    {
     "name": "stdout",
     "output_type": "stream",
     "text": [
      "<class 'pandas.core.frame.DataFrame'>\n",
      "Int64Index: 159253 entries, 0 to 160091\n",
      "Data columns (total 18 columns):\n",
      "course_id          159253 non-null object\n",
      "reviewer_name      159253 non-null object\n",
      "rating             159253 non-null int64\n",
      "review_text        159253 non-null object\n",
      "title              159253 non-null object\n",
      "topics             159253 non-null object\n",
      "about              159253 non-null object\n",
      "instructors        159253 non-null object\n",
      "language           159253 non-null object\n",
      "metrics            159253 non-null object\n",
      "product_glance     159253 non-null object\n",
      "average_score      159253 non-null float64\n",
      "ratings_count      159253 non-null int64\n",
      "reviews_count      159253 non-null int64\n",
      "skills             159253 non-null object\n",
      "syllabus           159253 non-null object\n",
      "recommendations    159253 non-null object\n",
      "url                159253 non-null object\n",
      "dtypes: float64(1), int64(3), object(14)\n",
      "memory usage: 23.1+ MB\n"
     ]
    }
   ],
   "source": [
    "data.info()"
   ]
  },
  {
   "cell_type": "code",
   "execution_count": null,
   "metadata": {},
   "outputs": [],
   "source": []
  },
  {
   "cell_type": "markdown",
   "metadata": {},
   "source": [
    "## Анализ данных"
   ]
  },
  {
   "cell_type": "code",
   "execution_count": 88,
   "metadata": {
    "scrolled": true
   },
   "outputs": [
    {
     "data": {
      "text/plain": [
       "<matplotlib.axes._subplots.AxesSubplot at 0x1a254309b0>"
      ]
     },
     "execution_count": 88,
     "metadata": {},
     "output_type": "execute_result"
    },
    {
     "data": {
      "image/png": "[encoded data removed]",
      "text/plain": [
       "<Figure size 432x288 with 1 Axes>"
      ]
     },
     "metadata": {},
     "output_type": "display_data"
    }
   ],
   "source": [
    "# Распределение review по количеству символов\n",
    "data.review_text.str.len().hist(bins=100)"
   ]
  },
  {
   "cell_type": "code",
   "execution_count": 100,
   "metadata": {},
   "outputs": [
    {
     "data": {
      "text/plain": [
       "<matplotlib.axes._subplots.AxesSubplot at 0x1a2d58fd30>"
      ]
     },
     "execution_count": 100,
     "metadata": {},
     "output_type": "execute_result"
    },
    {
     "data": {
      "image/png": "[encoded data removed]",
      "text/plain": [
       "<Figure size 720x360 with 1 Axes>"
      ]
     },
     "metadata": {},
     "output_type": "display_data"
    }
   ],
   "source": [
    "# Распределение review по количеству символов\n",
    "#data.rating.value_counts().hist(bins=100)\n",
    "\n",
    "# посмотрим на гистограмму распределения оценок по всем курсам\n",
    "plt.rcParams['figure.figsize'] = (10, 5)\n",
    "data.rating.hist()"
   ]
  },
  {
   "cell_type": "code",
   "execution_count": null,
   "metadata": {},
   "outputs": [],
   "source": []
  },
  {
   "cell_type": "code",
   "execution_count": null,
   "metadata": {},
   "outputs": [],
   "source": []
  },
  {
   "cell_type": "code",
   "execution_count": 97,
   "metadata": {
    "scrolled": true
   },
   "outputs": [
    {
     "name": "stdout",
     "output_type": "stream",
     "text": [
      "Good comment: \n",
      " Very relevant and useful course designed for CIOs \n",
      "\n",
      "Good comment: \n",
      " Great piece of work, I especially liked a few 'lifehacks' for the CIO \n",
      "\n",
      "Good comment: \n",
      " Excellent course, for me it was very rewarding and the terms used and the tools given were excellent, and today and I put in use in my job, Thank you for inculcating knowledge and move on               \n",
      "\n"
     ]
    }
   ],
   "source": [
    "# Три варианта положительных комментариев\n",
    "for i, text in data[data.rating==5].head(3).iterrows():\n",
    "    print(\"Good comment: \\n {0} \\n\".format(text['review_text']))"
   ]
  },
  {
   "cell_type": "code",
   "execution_count": 102,
   "metadata": {},
   "outputs": [
    {
     "name": "stdout",
     "output_type": "stream",
     "text": [
      "Bad comment: \n",
      " Till now no assigment for my work on week 4. \n",
      "\n",
      "Bad comment: \n",
      " This course doesn't contain any new information. It does not teach you but just excitedly shows commonly known facts.There are better ways to invest your time. \n",
      "\n",
      "Bad comment: \n",
      " I do not find very interesting this course. too many interviews. It could works for the first course, but not for the second. I was expecting to have more technical material and lessons. \n",
      "\n"
     ]
    }
   ],
   "source": [
    "# Три варианта отрицательных(негативных) комментариев\n",
    "for i, text in data[data.rating==1].head(3).iterrows():\n",
    "    print(\"Bad comment: \\n {0} \\n\".format(text['review_text']))"
   ]
  },
  {
   "cell_type": "markdown",
   "metadata": {},
   "source": [
    "### Токенизация и очистка данных"
   ]
  },
  {
   "cell_type": "markdown",
   "metadata": {},
   "source": [
    "Сделаем токенизацию слов из текстов review"
   ]
  },
  {
   "cell_type": "code",
   "execution_count": 103,
   "metadata": {},
   "outputs": [],
   "source": [
    "mystopwords = stopwords.words('english') + [\"i'm\", '-', \"i've\"]\n",
    "regex = re.compile(\"['A-Za-z\\-]+\")\n",
    "\n",
    "def tokenize(text, regex=regex, stopwords=mystopwords):\n",
    "    \"\"\" Tokenize all tokens from text string\n",
    "        Returns array of tokens\n",
    "    \"\"\"\n",
    "    try:\n",
    "        text = \" \".join(regex.findall(text)).lower()\n",
    "        tokens = ' '.join([token for token in text.split(' ') if not token in stopwords])\n",
    "        return tokens\n",
    "    except:\n",
    "        return []"
   ]
  },
  {
   "cell_type": "code",
   "execution_count": 104,
   "metadata": {},
   "outputs": [],
   "source": [
    "data['review_text_tokenize'] = data.review_text.apply(tokenize)"
   ]
  },
  {
   "cell_type": "code",
   "execution_count": 105,
   "metadata": {},
   "outputs": [
    {
     "data": {
      "text/html": [
       "<div>\n",
       "<style scoped>\n",
       "    .dataframe tbody tr th:only-of-type {\n",
       "        vertical-align: middle;\n",
       "    }\n",
       "\n",
       "    .dataframe tbody tr th {\n",
       "        vertical-align: top;\n",
       "    }\n",
       "\n",
       "    .dataframe thead th {\n",
       "        text-align: right;\n",
       "    }\n",
       "</style>\n",
       "<table border=\"1\" class=\"dataframe\">\n",
       "  <thead>\n",
       "    <tr style=\"text-align: right;\">\n",
       "      <th></th>\n",
       "      <th>course_id</th>\n",
       "      <th>reviewer_name</th>\n",
       "      <th>rating</th>\n",
       "      <th>review_text</th>\n",
       "      <th>title</th>\n",
       "      <th>topics</th>\n",
       "      <th>about</th>\n",
       "      <th>instructors</th>\n",
       "      <th>language</th>\n",
       "      <th>metrics</th>\n",
       "      <th>product_glance</th>\n",
       "      <th>average_score</th>\n",
       "      <th>ratings_count</th>\n",
       "      <th>reviews_count</th>\n",
       "      <th>skills</th>\n",
       "      <th>syllabus</th>\n",
       "      <th>recommendations</th>\n",
       "      <th>url</th>\n",
       "      <th>review_text_tokenize</th>\n",
       "    </tr>\n",
       "  </thead>\n",
       "  <tbody>\n",
       "    <tr>\n",
       "      <th>0</th>\n",
       "      <td>2-speed-it</td>\n",
       "      <td>Ravish</td>\n",
       "      <td>5</td>\n",
       "      <td>Very relevant and useful course designed for CIOs</td>\n",
       "      <td>Two Speed IT: How Companies Can Surf the Digit...</td>\n",
       "      <td>['Business', 'Business Essentials']</td>\n",
       "      <td>Transform or disappear, the Darwinism of IT: I...</td>\n",
       "      <td>['Antoine Gourévitch', 'Vanessa Lyon', 'Eric B...</td>\n",
       "      <td>English</td>\n",
       "      <td>['16,728 already enrolled!', '5,149 recent vie...</td>\n",
       "      <td>['100% online', 'Flexible deadlines', 'Approx....</td>\n",
       "      <td>4.4</td>\n",
       "      <td>33</td>\n",
       "      <td>33</td>\n",
       "      <td>[]</td>\n",
       "      <td>['Introduction', 'IT and the CIO in the Digita...</td>\n",
       "      <td>['fundamentals-of-management', 'entrepreneuria...</td>\n",
       "      <td>https://www.coursera.org/learn/2-speed-it</td>\n",
       "      <td>relevant useful course designed cios</td>\n",
       "    </tr>\n",
       "    <tr>\n",
       "      <th>1</th>\n",
       "      <td>2-speed-it</td>\n",
       "      <td>Etienne R</td>\n",
       "      <td>2</td>\n",
       "      <td>This course does not say anything about digiti...</td>\n",
       "      <td>Two Speed IT: How Companies Can Surf the Digit...</td>\n",
       "      <td>['Business', 'Business Essentials']</td>\n",
       "      <td>Transform or disappear, the Darwinism of IT: I...</td>\n",
       "      <td>['Antoine Gourévitch', 'Vanessa Lyon', 'Eric B...</td>\n",
       "      <td>English</td>\n",
       "      <td>['16,728 already enrolled!', '5,149 recent vie...</td>\n",
       "      <td>['100% online', 'Flexible deadlines', 'Approx....</td>\n",
       "      <td>4.4</td>\n",
       "      <td>33</td>\n",
       "      <td>33</td>\n",
       "      <td>[]</td>\n",
       "      <td>['Introduction', 'IT and the CIO in the Digita...</td>\n",
       "      <td>['fundamentals-of-management', 'entrepreneuria...</td>\n",
       "      <td>https://www.coursera.org/learn/2-speed-it</td>\n",
       "      <td>course say anything digitization core subject ...</td>\n",
       "    </tr>\n",
       "    <tr>\n",
       "      <th>2</th>\n",
       "      <td>2-speed-it</td>\n",
       "      <td>Viswas P</td>\n",
       "      <td>4</td>\n",
       "      <td>Videos that are presented in French could've b...</td>\n",
       "      <td>Two Speed IT: How Companies Can Surf the Digit...</td>\n",
       "      <td>['Business', 'Business Essentials']</td>\n",
       "      <td>Transform or disappear, the Darwinism of IT: I...</td>\n",
       "      <td>['Antoine Gourévitch', 'Vanessa Lyon', 'Eric B...</td>\n",
       "      <td>English</td>\n",
       "      <td>['16,728 already enrolled!', '5,149 recent vie...</td>\n",
       "      <td>['100% online', 'Flexible deadlines', 'Approx....</td>\n",
       "      <td>4.4</td>\n",
       "      <td>33</td>\n",
       "      <td>33</td>\n",
       "      <td>[]</td>\n",
       "      <td>['Introduction', 'IT and the CIO in the Digita...</td>\n",
       "      <td>['fundamentals-of-management', 'entrepreneuria...</td>\n",
       "      <td>https://www.coursera.org/learn/2-speed-it</td>\n",
       "      <td>videos presented french could've translated en...</td>\n",
       "    </tr>\n",
       "    <tr>\n",
       "      <th>3</th>\n",
       "      <td>2-speed-it</td>\n",
       "      <td>AN L</td>\n",
       "      <td>3</td>\n",
       "      <td>The course content is quite good, though it co...</td>\n",
       "      <td>Two Speed IT: How Companies Can Surf the Digit...</td>\n",
       "      <td>['Business', 'Business Essentials']</td>\n",
       "      <td>Transform or disappear, the Darwinism of IT: I...</td>\n",
       "      <td>['Antoine Gourévitch', 'Vanessa Lyon', 'Eric B...</td>\n",
       "      <td>English</td>\n",
       "      <td>['16,728 already enrolled!', '5,149 recent vie...</td>\n",
       "      <td>['100% online', 'Flexible deadlines', 'Approx....</td>\n",
       "      <td>4.4</td>\n",
       "      <td>33</td>\n",
       "      <td>33</td>\n",
       "      <td>[]</td>\n",
       "      <td>['Introduction', 'IT and the CIO in the Digita...</td>\n",
       "      <td>['fundamentals-of-management', 'entrepreneuria...</td>\n",
       "      <td>https://www.coursera.org/learn/2-speed-it</td>\n",
       "      <td>course content quite good though could deeper ...</td>\n",
       "    </tr>\n",
       "    <tr>\n",
       "      <th>4</th>\n",
       "      <td>2-speed-it</td>\n",
       "      <td>Konstantin A</td>\n",
       "      <td>5</td>\n",
       "      <td>Great piece of work, I especially liked a few ...</td>\n",
       "      <td>Two Speed IT: How Companies Can Surf the Digit...</td>\n",
       "      <td>['Business', 'Business Essentials']</td>\n",
       "      <td>Transform or disappear, the Darwinism of IT: I...</td>\n",
       "      <td>['Antoine Gourévitch', 'Vanessa Lyon', 'Eric B...</td>\n",
       "      <td>English</td>\n",
       "      <td>['16,728 already enrolled!', '5,149 recent vie...</td>\n",
       "      <td>['100% online', 'Flexible deadlines', 'Approx....</td>\n",
       "      <td>4.4</td>\n",
       "      <td>33</td>\n",
       "      <td>33</td>\n",
       "      <td>[]</td>\n",
       "      <td>['Introduction', 'IT and the CIO in the Digita...</td>\n",
       "      <td>['fundamentals-of-management', 'entrepreneuria...</td>\n",
       "      <td>https://www.coursera.org/learn/2-speed-it</td>\n",
       "      <td>great piece work especially liked 'lifehacks' cio</td>\n",
       "    </tr>\n",
       "  </tbody>\n",
       "</table>\n",
       "</div>"
      ],
      "text/plain": [
       "    course_id  reviewer_name  rating  \\\n",
       "0  2-speed-it         Ravish       5   \n",
       "1  2-speed-it      Etienne R       2   \n",
       "2  2-speed-it       Viswas P       4   \n",
       "3  2-speed-it           AN L       3   \n",
       "4  2-speed-it  Konstantin A        5   \n",
       "\n",
       "                                         review_text  \\\n",
       "0  Very relevant and useful course designed for CIOs   \n",
       "1  This course does not say anything about digiti...   \n",
       "2  Videos that are presented in French could've b...   \n",
       "3  The course content is quite good, though it co...   \n",
       "4  Great piece of work, I especially liked a few ...   \n",
       "\n",
       "                                               title  \\\n",
       "0  Two Speed IT: How Companies Can Surf the Digit...   \n",
       "1  Two Speed IT: How Companies Can Surf the Digit...   \n",
       "2  Two Speed IT: How Companies Can Surf the Digit...   \n",
       "3  Two Speed IT: How Companies Can Surf the Digit...   \n",
       "4  Two Speed IT: How Companies Can Surf the Digit...   \n",
       "\n",
       "                                topics  \\\n",
       "0  ['Business', 'Business Essentials']   \n",
       "1  ['Business', 'Business Essentials']   \n",
       "2  ['Business', 'Business Essentials']   \n",
       "3  ['Business', 'Business Essentials']   \n",
       "4  ['Business', 'Business Essentials']   \n",
       "\n",
       "                                               about  \\\n",
       "0  Transform or disappear, the Darwinism of IT: I...   \n",
       "1  Transform or disappear, the Darwinism of IT: I...   \n",
       "2  Transform or disappear, the Darwinism of IT: I...   \n",
       "3  Transform or disappear, the Darwinism of IT: I...   \n",
       "4  Transform or disappear, the Darwinism of IT: I...   \n",
       "\n",
       "                                         instructors language  \\\n",
       "0  ['Antoine Gourévitch', 'Vanessa Lyon', 'Eric B...  English   \n",
       "1  ['Antoine Gourévitch', 'Vanessa Lyon', 'Eric B...  English   \n",
       "2  ['Antoine Gourévitch', 'Vanessa Lyon', 'Eric B...  English   \n",
       "3  ['Antoine Gourévitch', 'Vanessa Lyon', 'Eric B...  English   \n",
       "4  ['Antoine Gourévitch', 'Vanessa Lyon', 'Eric B...  English   \n",
       "\n",
       "                                             metrics  \\\n",
       "0  ['16,728 already enrolled!', '5,149 recent vie...   \n",
       "1  ['16,728 already enrolled!', '5,149 recent vie...   \n",
       "2  ['16,728 already enrolled!', '5,149 recent vie...   \n",
       "3  ['16,728 already enrolled!', '5,149 recent vie...   \n",
       "4  ['16,728 already enrolled!', '5,149 recent vie...   \n",
       "\n",
       "                                      product_glance  average_score  \\\n",
       "0  ['100% online', 'Flexible deadlines', 'Approx....            4.4   \n",
       "1  ['100% online', 'Flexible deadlines', 'Approx....            4.4   \n",
       "2  ['100% online', 'Flexible deadlines', 'Approx....            4.4   \n",
       "3  ['100% online', 'Flexible deadlines', 'Approx....            4.4   \n",
       "4  ['100% online', 'Flexible deadlines', 'Approx....            4.4   \n",
       "\n",
       "   ratings_count  reviews_count skills  \\\n",
       "0             33             33     []   \n",
       "1             33             33     []   \n",
       "2             33             33     []   \n",
       "3             33             33     []   \n",
       "4             33             33     []   \n",
       "\n",
       "                                            syllabus  \\\n",
       "0  ['Introduction', 'IT and the CIO in the Digita...   \n",
       "1  ['Introduction', 'IT and the CIO in the Digita...   \n",
       "2  ['Introduction', 'IT and the CIO in the Digita...   \n",
       "3  ['Introduction', 'IT and the CIO in the Digita...   \n",
       "4  ['Introduction', 'IT and the CIO in the Digita...   \n",
       "\n",
       "                                     recommendations  \\\n",
       "0  ['fundamentals-of-management', 'entrepreneuria...   \n",
       "1  ['fundamentals-of-management', 'entrepreneuria...   \n",
       "2  ['fundamentals-of-management', 'entrepreneuria...   \n",
       "3  ['fundamentals-of-management', 'entrepreneuria...   \n",
       "4  ['fundamentals-of-management', 'entrepreneuria...   \n",
       "\n",
       "                                         url  \\\n",
       "0  https://www.coursera.org/learn/2-speed-it   \n",
       "1  https://www.coursera.org/learn/2-speed-it   \n",
       "2  https://www.coursera.org/learn/2-speed-it   \n",
       "3  https://www.coursera.org/learn/2-speed-it   \n",
       "4  https://www.coursera.org/learn/2-speed-it   \n",
       "\n",
       "                                review_text_tokenize  \n",
       "0               relevant useful course designed cios  \n",
       "1  course say anything digitization core subject ...  \n",
       "2  videos presented french could've translated en...  \n",
       "3  course content quite good though could deeper ...  \n",
       "4  great piece work especially liked 'lifehacks' cio  "
      ]
     },
     "execution_count": 105,
     "metadata": {},
     "output_type": "execute_result"
    }
   ],
   "source": [
    "data.head()"
   ]
  },
  {
   "cell_type": "markdown",
   "metadata": {},
   "source": [
    "### Определим частоту слов построим облако слов для того чтобы понять о чем большинство текстов"
   ]
  },
  {
   "cell_type": "code",
   "execution_count": 107,
   "metadata": {
    "scrolled": true
   },
   "outputs": [
    {
     "name": "stdout",
     "output_type": "stream",
     "text": [
      "('course', 115010)\n",
      "('great', 33413)\n",
      "('good', 29760)\n",
      "('really', 18212)\n",
      "('excellent', 15854)\n",
      "('lot', 14015)\n",
      "('well', 13973)\n",
      "('interesting', 12864)\n",
      "('would', 11913)\n",
      "('thank', 11565)\n",
      "('much', 11430)\n",
      "('learn', 9470)\n",
      "('like', 9359)\n",
      "('useful', 9270)\n",
      "('one', 8951)\n"
     ]
    }
   ],
   "source": [
    "from collections import Counter\n",
    "\n",
    "lemmata = []\n",
    "for index, row in data.iterrows():\n",
    "    lemmata += row['review_text_tokenize'].split()\n",
    "cnt = Counter(lemmata)\n",
    "\n",
    "for i in cnt.most_common(15):\n",
    "    print(i)"
   ]
  },
  {
   "cell_type": "code",
   "execution_count": 110,
   "metadata": {},
   "outputs": [
    {
     "name": "stdout",
     "output_type": "stream",
     "text": [
      "53814\n"
     ]
    }
   ],
   "source": [
    "# Количество слов в словаре:\n",
    "print(len(cnt))"
   ]
  },
  {
   "cell_type": "code",
   "execution_count": 111,
   "metadata": {
    "scrolled": false
   },
   "outputs": [
    {
     "data": {
      "image/png": "[encoded data removed]",
      "text/plain": [
       "<Figure size 720x360 with 1 Axes>"
      ]
     },
     "metadata": {},
     "output_type": "display_data"
    }
   ],
   "source": [
    "from wordcloud import *\n",
    "word_freq = [i for i in cnt.most_common(100)]\n",
    "wd = WordCloud(background_color = 'white')\n",
    "wd.generate_from_frequencies(dict(word_freq))\n",
    "plt.figure()\n",
    "plt.imshow(wd, interpolation = 'bilinear')\n",
    "plt.axis('off')\n",
    "plt.show()"
   ]
  },
  {
   "cell_type": "markdown",
   "metadata": {},
   "source": [
    "### Сформируем сбалансированный датасет c обучающей и тестовой выборкой\n",
    "Поскольку датасет несбалансирован, применим Undersampling подход"
   ]
  },
  {
   "cell_type": "code",
   "execution_count": null,
   "metadata": {},
   "outputs": [],
   "source": [
    "№№№№№№№№№№№№№\n",
    "### бинарную классификацию в многоклассовую!!!!!!!!!!!!"
   ]
  },
  {
   "cell_type": "code",
   "execution_count": 112,
   "metadata": {},
   "outputs": [],
   "source": [
    "from imblearn.under_sampling import RandomUnderSampler\n",
    "rus = RandomUnderSampler(random_state=0)\n",
    "\n",
    "X = data[['review_text_tokenize']]\n",
    "y = data['rating']\n",
    "\n",
    "X_balanced, y_balanced = rus.fit_resample(X, y)"
   ]
  },
  {
   "cell_type": "code",
   "execution_count": 113,
   "metadata": {
    "scrolled": false
   },
   "outputs": [
    {
     "data": {
      "text/html": [
       "<div>\n",
       "<style scoped>\n",
       "    .dataframe tbody tr th:only-of-type {\n",
       "        vertical-align: middle;\n",
       "    }\n",
       "\n",
       "    .dataframe tbody tr th {\n",
       "        vertical-align: top;\n",
       "    }\n",
       "\n",
       "    .dataframe thead th {\n",
       "        text-align: right;\n",
       "    }\n",
       "</style>\n",
       "<table border=\"1\" class=\"dataframe\">\n",
       "  <thead>\n",
       "    <tr style=\"text-align: right;\">\n",
       "      <th></th>\n",
       "      <th>review_text_tokenize</th>\n",
       "      <th>rating</th>\n",
       "    </tr>\n",
       "  </thead>\n",
       "  <tbody>\n",
       "    <tr>\n",
       "      <th>0</th>\n",
       "      <td>material extremely fragmented seems like instr...</td>\n",
       "      <td>1</td>\n",
       "    </tr>\n",
       "    <tr>\n",
       "      <th>1</th>\n",
       "      <td>poor design presentation assignment</td>\n",
       "      <td>1</td>\n",
       "    </tr>\n",
       "    <tr>\n",
       "      <th>2</th>\n",
       "      <td>totally unsufficient guidance external tools n...</td>\n",
       "      <td>1</td>\n",
       "    </tr>\n",
       "    <tr>\n",
       "      <th>3</th>\n",
       "      <td>find course added anything already learned see...</td>\n",
       "      <td>1</td>\n",
       "    </tr>\n",
       "    <tr>\n",
       "      <th>4</th>\n",
       "      <td>pesimo</td>\n",
       "      <td>1</td>\n",
       "    </tr>\n",
       "  </tbody>\n",
       "</table>\n",
       "</div>"
      ],
      "text/plain": [
       "                                review_text_tokenize  rating\n",
       "0  material extremely fragmented seems like instr...       1\n",
       "1                poor design presentation assignment       1\n",
       "2  totally unsufficient guidance external tools n...       1\n",
       "3  find course added anything already learned see...       1\n",
       "4                                             pesimo       1"
      ]
     },
     "execution_count": 113,
     "metadata": {},
     "output_type": "execute_result"
    }
   ],
   "source": [
    "balanced = pd.DataFrame.from_dict({'review_text_tokenize': X_balanced[:,0], 'rating': y_balanced}) \n",
    "balanced.head()"
   ]
  },
  {
   "cell_type": "code",
   "execution_count": 114,
   "metadata": {},
   "outputs": [],
   "source": [
    "# Сделаем обучающую и тестовую выборку\n",
    "train, test = train_test_split(balanced, test_size=0.2, random_state=42)"
   ]
  },
  {
   "cell_type": "markdown",
   "metadata": {},
   "source": [
    "### Построим векторную модель с помощью Doc2Vec"
   ]
  },
  {
   "cell_type": "markdown",
   "metadata": {},
   "source": [
    "для предсказания пользовательских оценок"
   ]
  },
  {
   "cell_type": "code",
   "execution_count": 115,
   "metadata": {},
   "outputs": [],
   "source": [
    "import multiprocessing\n",
    "cores = multiprocessing.cpu_count()"
   ]
  },
  {
   "cell_type": "code",
   "execution_count": 117,
   "metadata": {},
   "outputs": [],
   "source": [
    "train_tagged = train.apply(\n",
    "    lambda r: TaggedDocument(words=r['review_text_tokenize'].split(' '), tags=[r.rating]), axis=1)\n",
    "test_tagged = test.apply(\n",
    "    lambda r: TaggedDocument(words=r['review_text_tokenize'].split(' '), tags=[r.rating]), axis=1)"
   ]
  },
  {
   "cell_type": "code",
   "execution_count": 118,
   "metadata": {},
   "outputs": [
    {
     "data": {
      "text/plain": [
       "TaggedDocument(words=['interesting', 'course', 'way', 'many', 'quizzes', 'extremely', 'tedious', 'would', 'recommend', 'course', 'anyone'], tags=[2])"
      ]
     },
     "execution_count": 118,
     "metadata": {},
     "output_type": "execute_result"
    }
   ],
   "source": [
    "train_tagged.values[30]"
   ]
  },
  {
   "cell_type": "code",
   "execution_count": 119,
   "metadata": {},
   "outputs": [
    {
     "name": "stderr",
     "output_type": "stream",
     "text": [
      "100%|██████████| 13028/13028 [00:00<00:00, 2452575.97it/s]\n"
     ]
    }
   ],
   "source": [
    "model_dbow = Doc2Vec(dm=0, vector_size=2000, negative=5, hs=0, min_count=2, sample = 0, workers=cores)\n",
    "model_dbow.build_vocab([x for x in tqdm(train_tagged.values)])"
   ]
  },
  {
   "cell_type": "code",
   "execution_count": 120,
   "metadata": {
    "scrolled": true
   },
   "outputs": [
    {
     "name": "stderr",
     "output_type": "stream",
     "text": [
      "100%|██████████| 13028/13028 [00:00<00:00, 2138266.19it/s]\n",
      "100%|██████████| 13028/13028 [00:00<00:00, 2895167.56it/s]\n",
      "100%|██████████| 13028/13028 [00:00<00:00, 1486854.58it/s]\n",
      "100%|██████████| 13028/13028 [00:00<00:00, 2574725.18it/s]\n",
      "100%|██████████| 13028/13028 [00:00<00:00, 2888739.30it/s]\n",
      "100%|██████████| 13028/13028 [00:00<00:00, 2586424.60it/s]\n",
      "100%|██████████| 13028/13028 [00:00<00:00, 3160770.04it/s]\n",
      "100%|██████████| 13028/13028 [00:00<00:00, 3056118.15it/s]\n",
      "100%|██████████| 13028/13028 [00:00<00:00, 3178419.76it/s]\n",
      "100%|██████████| 13028/13028 [00:00<00:00, 3142953.67it/s]\n"
     ]
    }
   ],
   "source": [
    "# Обучаем модель\n",
    "for epoch in range(10):\n",
    "    model_dbow.train(utils.shuffle([x for x in tqdm(train_tagged.values)]), total_examples=len(train_tagged.values), epochs=1)\n",
    "    model_dbow.alpha -= 0.002\n",
    "    model_dbow.min_alpha = model_dbow.alpha"
   ]
  },
  {
   "cell_type": "code",
   "execution_count": 121,
   "metadata": {},
   "outputs": [],
   "source": [
    "# Сформируем итоговый набор векторов для обучения\n",
    "def vec_for_learning(model, tagged_docs):\n",
    "    sents = tagged_docs.values\n",
    "    targets, regressors = zip(*[(doc.tags[0], model.infer_vector(doc.words, steps=20)) for doc in sents])\n",
    "    return targets, regressors"
   ]
  },
  {
   "cell_type": "code",
   "execution_count": 122,
   "metadata": {},
   "outputs": [],
   "source": [
    "## Логистическая регрессия"
   ]
  },
  {
   "cell_type": "code",
   "execution_count": 123,
   "metadata": {},
   "outputs": [],
   "source": [
    "y_train, X_train = vec_for_learning(model_dbow, train_tagged)\n",
    "y_test, X_test = vec_for_learning(model_dbow, test_tagged)"
   ]
  },
  {
   "cell_type": "code",
   "execution_count": 124,
   "metadata": {},
   "outputs": [],
   "source": [
    "logreg = LogisticRegression(n_jobs=1, C=1e5)\n",
    "logreg.fit(X_train, y_train)\n",
    "y_pred = logreg.predict(X_test)"
   ]
  },
  {
   "cell_type": "code",
   "execution_count": 125,
   "metadata": {},
   "outputs": [
    {
     "name": "stdout",
     "output_type": "stream",
     "text": [
      "Testing accuracy 0.3997543751918944\n",
      "Testing F1 score: 0.39778536029224326\n"
     ]
    }
   ],
   "source": [
    "print('Testing accuracy %s' % accuracy_score(y_test, y_pred))\n",
    "print('Testing F1 score: {}'.format(f1_score(y_test, y_pred, average='weighted')))"
   ]
  },
  {
   "cell_type": "code",
   "execution_count": null,
   "metadata": {},
   "outputs": [],
   "source": []
  }
 ],
 "metadata": {
  "kernelspec": {
   "display_name": "Python 3",
   "language": "python",
   "name": "python3"
  }
 },
 "nbformat": 4,
 "nbformat_minor": 2
}
