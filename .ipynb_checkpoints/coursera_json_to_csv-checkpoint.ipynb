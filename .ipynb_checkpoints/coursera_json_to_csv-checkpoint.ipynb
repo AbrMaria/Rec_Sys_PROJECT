{
 "cells": [
  {
   "cell_type": "code",
   "execution_count": 2,
   "metadata": {},
   "outputs": [],
   "source": [
    "import json\n",
    "import numpy as np\n",
    "import pandas as pd\n",
    "from pandas import DataFrame\n"
   ]
  },
  {
   "cell_type": "code",
   "execution_count": 3,
   "metadata": {
    "scrolled": true
   },
   "outputs": [
    {
     "ename": "JSONDecodeError",
     "evalue": "Expecting value: line 1 column 1 (char 0)",
     "output_type": "error",
     "traceback": [
      "\u001b[0;31m---------------------------------------------------------------------------\u001b[0m",
      "\u001b[0;31mJSONDecodeError\u001b[0m                           Traceback (most recent call last)",
      "\u001b[0;32m<ipython-input-3-3eace70d261a>\u001b[0m in \u001b[0;36m<module>\u001b[0;34m()\u001b[0m\n\u001b[1;32m      1\u001b[0m \u001b[0;32mwith\u001b[0m \u001b[0mopen\u001b[0m\u001b[0;34m(\u001b[0m\u001b[0;34m'coursera.json'\u001b[0m\u001b[0;34m)\u001b[0m \u001b[0;32mas\u001b[0m \u001b[0mdata_file\u001b[0m\u001b[0;34m:\u001b[0m\u001b[0;34m\u001b[0m\u001b[0;34m\u001b[0m\u001b[0m\n\u001b[0;32m----> 2\u001b[0;31m     \u001b[0mcoursera_data\u001b[0m \u001b[0;34m=\u001b[0m \u001b[0mjson\u001b[0m\u001b[0;34m.\u001b[0m\u001b[0mload\u001b[0m\u001b[0;34m(\u001b[0m\u001b[0mdata_file\u001b[0m\u001b[0;34m)\u001b[0m\u001b[0;34m\u001b[0m\u001b[0;34m\u001b[0m\u001b[0m\n\u001b[0m",
      "\u001b[0;32m/anaconda3/lib/python3.6/json/__init__.py\u001b[0m in \u001b[0;36mload\u001b[0;34m(fp, cls, object_hook, parse_float, parse_int, parse_constant, object_pairs_hook, **kw)\u001b[0m\n\u001b[1;32m    297\u001b[0m         \u001b[0mcls\u001b[0m\u001b[0;34m=\u001b[0m\u001b[0mcls\u001b[0m\u001b[0;34m,\u001b[0m \u001b[0mobject_hook\u001b[0m\u001b[0;34m=\u001b[0m\u001b[0mobject_hook\u001b[0m\u001b[0;34m,\u001b[0m\u001b[0;34m\u001b[0m\u001b[0;34m\u001b[0m\u001b[0m\n\u001b[1;32m    298\u001b[0m         \u001b[0mparse_float\u001b[0m\u001b[0;34m=\u001b[0m\u001b[0mparse_float\u001b[0m\u001b[0;34m,\u001b[0m \u001b[0mparse_int\u001b[0m\u001b[0;34m=\u001b[0m\u001b[0mparse_int\u001b[0m\u001b[0;34m,\u001b[0m\u001b[0;34m\u001b[0m\u001b[0;34m\u001b[0m\u001b[0m\n\u001b[0;32m--> 299\u001b[0;31m         parse_constant=parse_constant, object_pairs_hook=object_pairs_hook, **kw)\n\u001b[0m\u001b[1;32m    300\u001b[0m \u001b[0;34m\u001b[0m\u001b[0m\n\u001b[1;32m    301\u001b[0m \u001b[0;34m\u001b[0m\u001b[0m\n",
      "\u001b[0;32m/anaconda3/lib/python3.6/json/__init__.py\u001b[0m in \u001b[0;36mloads\u001b[0;34m(s, encoding, cls, object_hook, parse_float, parse_int, parse_constant, object_pairs_hook, **kw)\u001b[0m\n\u001b[1;32m    352\u001b[0m             \u001b[0mparse_int\u001b[0m \u001b[0;32mis\u001b[0m \u001b[0;32mNone\u001b[0m \u001b[0;32mand\u001b[0m \u001b[0mparse_float\u001b[0m \u001b[0;32mis\u001b[0m \u001b[0;32mNone\u001b[0m \u001b[0;32mand\u001b[0m\u001b[0;34m\u001b[0m\u001b[0;34m\u001b[0m\u001b[0m\n\u001b[1;32m    353\u001b[0m             parse_constant is None and object_pairs_hook is None and not kw):\n\u001b[0;32m--> 354\u001b[0;31m         \u001b[0;32mreturn\u001b[0m \u001b[0m_default_decoder\u001b[0m\u001b[0;34m.\u001b[0m\u001b[0mdecode\u001b[0m\u001b[0;34m(\u001b[0m\u001b[0ms\u001b[0m\u001b[0;34m)\u001b[0m\u001b[0;34m\u001b[0m\u001b[0;34m\u001b[0m\u001b[0m\n\u001b[0m\u001b[1;32m    355\u001b[0m     \u001b[0;32mif\u001b[0m \u001b[0mcls\u001b[0m \u001b[0;32mis\u001b[0m \u001b[0;32mNone\u001b[0m\u001b[0;34m:\u001b[0m\u001b[0;34m\u001b[0m\u001b[0;34m\u001b[0m\u001b[0m\n\u001b[1;32m    356\u001b[0m         \u001b[0mcls\u001b[0m \u001b[0;34m=\u001b[0m \u001b[0mJSONDecoder\u001b[0m\u001b[0;34m\u001b[0m\u001b[0;34m\u001b[0m\u001b[0m\n",
      "\u001b[0;32m/anaconda3/lib/python3.6/json/decoder.py\u001b[0m in \u001b[0;36mdecode\u001b[0;34m(self, s, _w)\u001b[0m\n\u001b[1;32m    337\u001b[0m \u001b[0;34m\u001b[0m\u001b[0m\n\u001b[1;32m    338\u001b[0m         \"\"\"\n\u001b[0;32m--> 339\u001b[0;31m         \u001b[0mobj\u001b[0m\u001b[0;34m,\u001b[0m \u001b[0mend\u001b[0m \u001b[0;34m=\u001b[0m \u001b[0mself\u001b[0m\u001b[0;34m.\u001b[0m\u001b[0mraw_decode\u001b[0m\u001b[0;34m(\u001b[0m\u001b[0ms\u001b[0m\u001b[0;34m,\u001b[0m \u001b[0midx\u001b[0m\u001b[0;34m=\u001b[0m\u001b[0m_w\u001b[0m\u001b[0;34m(\u001b[0m\u001b[0ms\u001b[0m\u001b[0;34m,\u001b[0m \u001b[0;36m0\u001b[0m\u001b[0;34m)\u001b[0m\u001b[0;34m.\u001b[0m\u001b[0mend\u001b[0m\u001b[0;34m(\u001b[0m\u001b[0;34m)\u001b[0m\u001b[0;34m)\u001b[0m\u001b[0;34m\u001b[0m\u001b[0;34m\u001b[0m\u001b[0m\n\u001b[0m\u001b[1;32m    340\u001b[0m         \u001b[0mend\u001b[0m \u001b[0;34m=\u001b[0m \u001b[0m_w\u001b[0m\u001b[0;34m(\u001b[0m\u001b[0ms\u001b[0m\u001b[0;34m,\u001b[0m \u001b[0mend\u001b[0m\u001b[0;34m)\u001b[0m\u001b[0;34m.\u001b[0m\u001b[0mend\u001b[0m\u001b[0;34m(\u001b[0m\u001b[0;34m)\u001b[0m\u001b[0;34m\u001b[0m\u001b[0;34m\u001b[0m\u001b[0m\n\u001b[1;32m    341\u001b[0m         \u001b[0;32mif\u001b[0m \u001b[0mend\u001b[0m \u001b[0;34m!=\u001b[0m \u001b[0mlen\u001b[0m\u001b[0;34m(\u001b[0m\u001b[0ms\u001b[0m\u001b[0;34m)\u001b[0m\u001b[0;34m:\u001b[0m\u001b[0;34m\u001b[0m\u001b[0;34m\u001b[0m\u001b[0m\n",
      "\u001b[0;32m/anaconda3/lib/python3.6/json/decoder.py\u001b[0m in \u001b[0;36mraw_decode\u001b[0;34m(self, s, idx)\u001b[0m\n\u001b[1;32m    355\u001b[0m             \u001b[0mobj\u001b[0m\u001b[0;34m,\u001b[0m \u001b[0mend\u001b[0m \u001b[0;34m=\u001b[0m \u001b[0mself\u001b[0m\u001b[0;34m.\u001b[0m\u001b[0mscan_once\u001b[0m\u001b[0;34m(\u001b[0m\u001b[0ms\u001b[0m\u001b[0;34m,\u001b[0m \u001b[0midx\u001b[0m\u001b[0;34m)\u001b[0m\u001b[0;34m\u001b[0m\u001b[0;34m\u001b[0m\u001b[0m\n\u001b[1;32m    356\u001b[0m         \u001b[0;32mexcept\u001b[0m \u001b[0mStopIteration\u001b[0m \u001b[0;32mas\u001b[0m \u001b[0merr\u001b[0m\u001b[0;34m:\u001b[0m\u001b[0;34m\u001b[0m\u001b[0;34m\u001b[0m\u001b[0m\n\u001b[0;32m--> 357\u001b[0;31m             \u001b[0;32mraise\u001b[0m \u001b[0mJSONDecodeError\u001b[0m\u001b[0;34m(\u001b[0m\u001b[0;34m\"Expecting value\"\u001b[0m\u001b[0;34m,\u001b[0m \u001b[0ms\u001b[0m\u001b[0;34m,\u001b[0m \u001b[0merr\u001b[0m\u001b[0;34m.\u001b[0m\u001b[0mvalue\u001b[0m\u001b[0;34m)\u001b[0m \u001b[0;32mfrom\u001b[0m \u001b[0;32mNone\u001b[0m\u001b[0;34m\u001b[0m\u001b[0;34m\u001b[0m\u001b[0m\n\u001b[0m\u001b[1;32m    358\u001b[0m         \u001b[0;32mreturn\u001b[0m \u001b[0mobj\u001b[0m\u001b[0;34m,\u001b[0m \u001b[0mend\u001b[0m\u001b[0;34m\u001b[0m\u001b[0;34m\u001b[0m\u001b[0m\n",
      "\u001b[0;31mJSONDecodeError\u001b[0m: Expecting value: line 1 column 1 (char 0)"
     ]
    }
   ],
   "source": [
    "with open('coursera.json') as data_file:\n",
    "    coursera_data = json.load(data_file)"
   ]
  },
  {
   "cell_type": "code",
   "execution_count": 4,
   "metadata": {},
   "outputs": [
    {
     "ename": "NameError",
     "evalue": "name 'coursera_data' is not defined",
     "output_type": "error",
     "traceback": [
      "\u001b[0;31m---------------------------------------------------------------------------\u001b[0m",
      "\u001b[0;31mNameError\u001b[0m                                 Traceback (most recent call last)",
      "\u001b[0;32m<ipython-input-4-4e0eb4a2b7d3>\u001b[0m in \u001b[0;36m<module>\u001b[0;34m()\u001b[0m\n\u001b[0;32m----> 1\u001b[0;31m \u001b[0mcoursera_data\u001b[0m\u001b[0;34m\u001b[0m\u001b[0;34m\u001b[0m\u001b[0m\n\u001b[0m",
      "\u001b[0;31mNameError\u001b[0m: name 'coursera_data' is not defined"
     ]
    }
   ],
   "source": [
    "coursera_data"
   ]
  },
  {
   "cell_type": "code",
   "execution_count": 86,
   "metadata": {},
   "outputs": [],
   "source": [
    "coursera_df = DataFrame(coursera_data)"
   ]
  },
  {
   "cell_type": "code",
   "execution_count": 87,
   "metadata": {},
   "outputs": [],
   "source": [
    "coursera_df = pd.DataFrame(coursera_df, columns= ['position',\n",
    "                                                  'course_id',\n",
    "                                                  'title',\n",
    "                                                  'breadcrumbs',\n",
    "                                                  'about', \n",
    "                                                  'instructors',\n",
    "                                                  'language',\n",
    "                                                  'metrics',\n",
    "                                                  'product_glance',\n",
    "                                                  'average_score',\n",
    "                                                  'ratings_count',\n",
    "                                                  'reviews_count',\n",
    "                                                  'skills',\n",
    "                                                  'syllabus',\n",
    "                                                  'recommendations',\n",
    "                                                  'url',])"
   ]
  },
  {
   "cell_type": "code",
   "execution_count": 95,
   "metadata": {},
   "outputs": [
    {
     "name": "stdout",
     "output_type": "stream",
     "text": [
      "<class 'pandas.core.frame.DataFrame'>\n",
      "RangeIndex: 1774 entries, 0 to 1773\n",
      "Data columns (total 16 columns):\n",
      "position           1774 non-null int64\n",
      "course_id          1774 non-null object\n",
      "title              1774 non-null object\n",
      "breadcrumbs        1774 non-null object\n",
      "about              1774 non-null object\n",
      "instructors        1774 non-null object\n",
      "language           1774 non-null object\n",
      "metrics            1774 non-null object\n",
      "product_glance     1774 non-null object\n",
      "average_score      1641 non-null float64\n",
      "ratings_count      1504 non-null float64\n",
      "reviews_count      1606 non-null float64\n",
      "skills             1774 non-null object\n",
      "syllabus           1774 non-null object\n",
      "recommendations    1774 non-null object\n",
      "url                1774 non-null object\n",
      "dtypes: float64(3), int64(1), object(12)\n",
      "memory usage: 221.8+ KB\n"
     ]
    }
   ],
   "source": [
    "coursera_df.info()"
   ]
  },
  {
   "cell_type": "code",
   "execution_count": 94,
   "metadata": {},
   "outputs": [],
   "source": [
    "coursera_df['average_score'] = coursera_df['average_score'].apply(pd.to_numeric, downcast='float', errors='coerce')\n",
    "coursera_df['reviews_count'] = coursera_df['reviews_count'].apply(pd.to_numeric, downcast='signed', errors='raise')\n",
    "coursera_df['ratings_count'] = coursera_df['ratings_count'].apply(pd.to_numeric, downcast='float', errors='coerce')"
   ]
  },
  {
   "cell_type": "code",
   "execution_count": 1,
   "metadata": {},
   "outputs": [
    {
     "ename": "NameError",
     "evalue": "name 'coursera_df' is not defined",
     "output_type": "error",
     "traceback": [
      "\u001b[0;31m---------------------------------------------------------------------------\u001b[0m",
      "\u001b[0;31mNameError\u001b[0m                                 Traceback (most recent call last)",
      "\u001b[0;32m<ipython-input-1-81d7bd23272e>\u001b[0m in \u001b[0;36m<module>\u001b[0;34m()\u001b[0m\n\u001b[0;32m----> 1\u001b[0;31m \u001b[0mcoursera_df\u001b[0m\u001b[0;34m[\u001b[0m\u001b[0;34m'language'\u001b[0m\u001b[0;34m]\u001b[0m \u001b[0;34m=\u001b[0m \u001b[0mcoursera_df\u001b[0m\u001b[0;34m[\u001b[0m\u001b[0;34m'language'\u001b[0m\u001b[0;34m]\u001b[0m\u001b[0;34m.\u001b[0m\u001b[0mastype\u001b[0m\u001b[0;34m(\u001b[0m\u001b[0mstr\u001b[0m\u001b[0;34m)\u001b[0m\u001b[0;34m\u001b[0m\u001b[0;34m\u001b[0m\u001b[0m\n\u001b[0m\u001b[1;32m      2\u001b[0m \u001b[0mcoursera_df\u001b[0m\u001b[0;34m[\u001b[0m\u001b[0;34m'breadcrumbs'\u001b[0m\u001b[0;34m]\u001b[0m \u001b[0;34m=\u001b[0m \u001b[0mcoursera_df\u001b[0m\u001b[0;34m[\u001b[0m\u001b[0;34m'breadcrumbs'\u001b[0m\u001b[0;34m]\u001b[0m\u001b[0;34m.\u001b[0m\u001b[0mastype\u001b[0m\u001b[0;34m(\u001b[0m\u001b[0mstr\u001b[0m\u001b[0;34m)\u001b[0m\u001b[0;34m\u001b[0m\u001b[0;34m\u001b[0m\u001b[0m\n\u001b[1;32m      3\u001b[0m \u001b[0mcoursera_df\u001b[0m\u001b[0;34m[\u001b[0m\u001b[0;34m'about'\u001b[0m\u001b[0;34m]\u001b[0m \u001b[0;34m=\u001b[0m \u001b[0mcoursera_df\u001b[0m\u001b[0;34m[\u001b[0m\u001b[0;34m'about'\u001b[0m\u001b[0;34m]\u001b[0m\u001b[0;34m.\u001b[0m\u001b[0mastype\u001b[0m\u001b[0;34m(\u001b[0m\u001b[0mstr\u001b[0m\u001b[0;34m)\u001b[0m\u001b[0;34m\u001b[0m\u001b[0;34m\u001b[0m\u001b[0m\n\u001b[1;32m      4\u001b[0m \u001b[0mcoursera_df\u001b[0m\u001b[0;34m[\u001b[0m\u001b[0;34m'instructors'\u001b[0m\u001b[0;34m]\u001b[0m \u001b[0;34m=\u001b[0m \u001b[0mcoursera_df\u001b[0m\u001b[0;34m[\u001b[0m\u001b[0;34m'instructors'\u001b[0m\u001b[0;34m]\u001b[0m\u001b[0;34m.\u001b[0m\u001b[0mastype\u001b[0m\u001b[0;34m(\u001b[0m\u001b[0mstr\u001b[0m\u001b[0;34m)\u001b[0m\u001b[0;34m\u001b[0m\u001b[0;34m\u001b[0m\u001b[0m\n\u001b[1;32m      5\u001b[0m \u001b[0mcoursera_df\u001b[0m\u001b[0;34m[\u001b[0m\u001b[0;34m'metrics'\u001b[0m\u001b[0;34m]\u001b[0m \u001b[0;34m=\u001b[0m \u001b[0mcoursera_df\u001b[0m\u001b[0;34m[\u001b[0m\u001b[0;34m'metrics'\u001b[0m\u001b[0;34m]\u001b[0m\u001b[0;34m.\u001b[0m\u001b[0mastype\u001b[0m\u001b[0;34m(\u001b[0m\u001b[0mstr\u001b[0m\u001b[0;34m)\u001b[0m\u001b[0;34m\u001b[0m\u001b[0;34m\u001b[0m\u001b[0m\n",
      "\u001b[0;31mNameError\u001b[0m: name 'coursera_df' is not defined"
     ]
    }
   ],
   "source": [
    "coursera_df['language'] = coursera_df['language'].astype(str)\n",
    "coursera_df['breadcrumbs'] = coursera_df['breadcrumbs'].astype(str)\n",
    "coursera_df['about'] = coursera_df['about'].astype(str)\n",
    "coursera_df['instructors'] = coursera_df['instructors'].astype(str)\n",
    "coursera_df['metrics'] = coursera_df['metrics'].astype(str)\n",
    "coursera_df['product_glance'] = coursera_df['product_glance'].astype(str)\n",
    "coursera_df['recommendations'] = coursera_df['recommendations'].astype(str)\n",
    "courses_ru['url'] = courses_ru['url'].astype(str)"
   ]
  },
  {
   "cell_type": "code",
   "execution_count": 92,
   "metadata": {},
   "outputs": [
    {
     "data": {
      "text/html": [
       "<div>\n",
       "<style scoped>\n",
       "    .dataframe tbody tr th:only-of-type {\n",
       "        vertical-align: middle;\n",
       "    }\n",
       "\n",
       "    .dataframe tbody tr th {\n",
       "        vertical-align: top;\n",
       "    }\n",
       "\n",
       "    .dataframe thead th {\n",
       "        text-align: right;\n",
       "    }\n",
       "</style>\n",
       "<table border=\"1\" class=\"dataframe\">\n",
       "  <thead>\n",
       "    <tr style=\"text-align: right;\">\n",
       "      <th></th>\n",
       "      <th>position</th>\n",
       "      <th>course_id</th>\n",
       "      <th>title</th>\n",
       "      <th>breadcrumbs</th>\n",
       "      <th>about</th>\n",
       "      <th>instructors</th>\n",
       "      <th>language</th>\n",
       "      <th>metrics</th>\n",
       "      <th>product_glance</th>\n",
       "      <th>average_score</th>\n",
       "      <th>ratings_count</th>\n",
       "      <th>reviews_count</th>\n",
       "      <th>skills</th>\n",
       "      <th>syllabus</th>\n",
       "      <th>recommendations</th>\n",
       "      <th>url</th>\n",
       "    </tr>\n",
       "  </thead>\n",
       "  <tbody>\n",
       "    <tr>\n",
       "      <th>0</th>\n",
       "      <td>1</td>\n",
       "      <td>2-speed-it</td>\n",
       "      <td>Two Speed IT: How Companies Can Surf the Digit...</td>\n",
       "      <td>['Business', 'Business Essentials']</td>\n",
       "      <td>Transform or disappear, the Darwinism of IT: I...</td>\n",
       "      <td>['Antoine Gourévitch', 'Vanessa Lyon', 'Eric B...</td>\n",
       "      <td>English</td>\n",
       "      <td>['16,728 already enrolled!', '5,149 recent vie...</td>\n",
       "      <td>['100% online', 'Flexible deadlines', 'Approx....</td>\n",
       "      <td>4.4</td>\n",
       "      <td>128.0</td>\n",
       "      <td>33.0</td>\n",
       "      <td>[]</td>\n",
       "      <td>[Introduction, IT and the CIO in the Digital W...</td>\n",
       "      <td>['fundamentals-of-management', 'entrepreneuria...</td>\n",
       "      <td>https://www.coursera.org/learn/2-speed-it</td>\n",
       "    </tr>\n",
       "    <tr>\n",
       "      <th>1</th>\n",
       "      <td>2</td>\n",
       "      <td>20cnwm</td>\n",
       "      <td>20世纪西方音乐 Western Music in the 20th Century</td>\n",
       "      <td>['Arts and Humanities', 'Music and Art']</td>\n",
       "      <td>课程所涉不仅涵盖古典音乐如新古典主义、表现主义、民族主义等流派，也对爵士乐、摇滚乐与流行音乐...</td>\n",
       "      <td>['毕明辉 Bryan Minghui BI']</td>\n",
       "      <td>Chinese (Simplified)</td>\n",
       "      <td>['1,795 already enrolled!']</td>\n",
       "      <td>['100% online', 'Flexible deadlines', 'Beginne...</td>\n",
       "      <td>4.3</td>\n",
       "      <td>27.0</td>\n",
       "      <td>6.0</td>\n",
       "      <td>[]</td>\n",
       "      <td>[音乐的史纲与音乐的风格, 音乐的空间与音乐的时间, 20世纪西方音乐的多元新秩序特征, 世...</td>\n",
       "      <td>['kunqu-opera', 'understanding-china-history-p...</td>\n",
       "      <td>https://www.coursera.org/learn/20cnwm</td>\n",
       "    </tr>\n",
       "    <tr>\n",
       "      <th>2</th>\n",
       "      <td>3</td>\n",
       "      <td>2d-cad</td>\n",
       "      <td>工程圖學 2D CAD</td>\n",
       "      <td>['Physical Science and Engineering', 'Mechanic...</td>\n",
       "      <td>工程圖學在教什麼？這門課有的重要性為何? 對我的專業有什麼幫助?沒有工程背景的人也可以學習工...</td>\n",
       "      <td>['康仕仲']</td>\n",
       "      <td>Chinese (Traditional)</td>\n",
       "      <td>['10,512 already enrolled!', '4,856 recent vie...</td>\n",
       "      <td>['Course 1 of 8 in the', '100% online', 'Flexi...</td>\n",
       "      <td>4.9</td>\n",
       "      <td>197.0</td>\n",
       "      <td>30.0</td>\n",
       "      <td>[]</td>\n",
       "      <td>[蓄勢待發 Get Ready, 工程圖學的意義與知識 Significance and K...</td>\n",
       "      <td>['construction-scheduling', 'construction-cost...</td>\n",
       "      <td>https://www.coursera.org/learn/2d-cad</td>\n",
       "    </tr>\n",
       "  </tbody>\n",
       "</table>\n",
       "</div>"
      ],
      "text/plain": [
       "   position   course_id                                              title  \\\n",
       "0         1  2-speed-it  Two Speed IT: How Companies Can Surf the Digit...   \n",
       "1         2      20cnwm         20世纪西方音乐 Western Music in the 20th Century   \n",
       "2         3      2d-cad                                        工程圖學 2D CAD   \n",
       "\n",
       "                                         breadcrumbs  \\\n",
       "0                ['Business', 'Business Essentials']   \n",
       "1           ['Arts and Humanities', 'Music and Art']   \n",
       "2  ['Physical Science and Engineering', 'Mechanic...   \n",
       "\n",
       "                                               about  \\\n",
       "0  Transform or disappear, the Darwinism of IT: I...   \n",
       "1  课程所涉不仅涵盖古典音乐如新古典主义、表现主义、民族主义等流派，也对爵士乐、摇滚乐与流行音乐...   \n",
       "2  工程圖學在教什麼？這門課有的重要性為何? 對我的專業有什麼幫助?沒有工程背景的人也可以學習工...   \n",
       "\n",
       "                                         instructors               language  \\\n",
       "0  ['Antoine Gourévitch', 'Vanessa Lyon', 'Eric B...                English   \n",
       "1                           ['毕明辉 Bryan Minghui BI']   Chinese (Simplified)   \n",
       "2                                            ['康仕仲']  Chinese (Traditional)   \n",
       "\n",
       "                                             metrics  \\\n",
       "0  ['16,728 already enrolled!', '5,149 recent vie...   \n",
       "1                        ['1,795 already enrolled!']   \n",
       "2  ['10,512 already enrolled!', '4,856 recent vie...   \n",
       "\n",
       "                                      product_glance  average_score  \\\n",
       "0  ['100% online', 'Flexible deadlines', 'Approx....            4.4   \n",
       "1  ['100% online', 'Flexible deadlines', 'Beginne...            4.3   \n",
       "2  ['Course 1 of 8 in the', '100% online', 'Flexi...            4.9   \n",
       "\n",
       "   ratings_count  reviews_count skills  \\\n",
       "0          128.0           33.0     []   \n",
       "1           27.0            6.0     []   \n",
       "2          197.0           30.0     []   \n",
       "\n",
       "                                            syllabus  \\\n",
       "0  [Introduction, IT and the CIO in the Digital W...   \n",
       "1  [音乐的史纲与音乐的风格, 音乐的空间与音乐的时间, 20世纪西方音乐的多元新秩序特征, 世...   \n",
       "2  [蓄勢待發 Get Ready, 工程圖學的意義與知識 Significance and K...   \n",
       "\n",
       "                                     recommendations  \\\n",
       "0  ['fundamentals-of-management', 'entrepreneuria...   \n",
       "1  ['kunqu-opera', 'understanding-china-history-p...   \n",
       "2  ['construction-scheduling', 'construction-cost...   \n",
       "\n",
       "                                         url  \n",
       "0  https://www.coursera.org/learn/2-speed-it  \n",
       "1      https://www.coursera.org/learn/20cnwm  \n",
       "2      https://www.coursera.org/learn/2d-cad  "
      ]
     },
     "execution_count": 92,
     "metadata": {},
     "output_type": "execute_result"
    }
   ],
   "source": [
    "coursera_df.head(3)"
   ]
  },
  {
   "cell_type": "code",
   "execution_count": 96,
   "metadata": {},
   "outputs": [],
   "source": [
    "coursera_df.to_csv('coursera.csv')"
   ]
  },
  {
   "cell_type": "code",
   "execution_count": null,
   "metadata": {},
   "outputs": [],
   "source": []
  }
 ],
 "metadata": {
  "kernelspec": {
   "display_name": "Python 3",
   "language": "python",
   "name": "python3"
  },
  "language_info": {
   "codemirror_mode": {
    "name": "ipython",
    "version": 3
   },
   "file_extension": ".py",
   "mimetype": "text/x-python",
   "name": "python",
   "nbconvert_exporter": "python",
   "pygments_lexer": "ipython3",
   "version": "3.6.8"
  }
 },
 "nbformat": 4,
 "nbformat_minor": 2
}
